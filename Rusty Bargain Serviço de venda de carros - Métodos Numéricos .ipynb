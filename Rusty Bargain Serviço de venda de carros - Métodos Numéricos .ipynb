{
 "cells": [
  {
   "cell_type": "markdown",
   "metadata": {},
   "source": [
    "O serviço de vendas de carros usados Rusty Bargain está desenvolvendo um aplicativo para atrair novos clientes. Nesse aplicativo, você pode descobrir rapidamente o valor de mercado do seu carro. Você tem acesso a dados históricos: especificações técnicas, versões de acabamento e preços. Você precisa construir o modelo para determinar o valor. \n",
    "\n",
    "Rusty Bargain está interessado em:\n",
    "\n",
    "- a qualidade da predição;\n",
    "- a velocidade da predição;\n",
    "- o tempo necessário para o treinamento"
   ]
  },
  {
   "cell_type": "markdown",
   "metadata": {},
   "source": [
    "## Preparação de Dados"
   ]
  },
  {
   "cell_type": "markdown",
   "metadata": {},
   "source": [
    "Primeiro passo será importar as bibliotecas necessárias."
   ]
  },
  {
   "cell_type": "code",
   "execution_count": 1,
   "metadata": {},
   "outputs": [],
   "source": [
    "import numpy as np\n",
    "import pandas as pd\n",
    "import time\n",
    "import seaborn as sns\n",
    "\n",
    "import sklearn.linear_model\n",
    "import sklearn.metrics\n",
    "import sklearn.neighbors\n",
    "import sklearn.preprocessing\n",
    "from sklearn.neighbors import NearestNeighbors\n",
    "from sklearn.linear_model import LinearRegression\n",
    "from sklearn.model_selection import train_test_split\n",
    "from sklearn.metrics import mean_squared_error\n",
    "from sklearn.metrics import r2_score\n",
    "from sklearn.metrics import f1_score\n",
    "from sklearn.neighbors import KNeighborsClassifier\n",
    "from sklearn.model_selection import train_test_split\n",
    "from sklearn.tree import DecisionTreeClassifier\n",
    "from sklearn.preprocessing import OrdinalEncoder\n",
    "from sklearn.preprocessing import LabelEncoder, StandardScaler, MaxAbsScaler\n",
    "from sklearn.metrics import roc_auc_score\n",
    "from sklearn.metrics import make_scorer\n",
    "from sklearn.ensemble import RandomForestRegressor\n",
    "from sklearn.tree import DecisionTreeRegressor\n",
    "\n",
    "\n",
    "from xgboost import XGBRegressor\n",
    "from lightgbm import LGBMRegressor\n",
    "from catboost import CatBoostRegressor\n",
    "\n",
    "\n",
    "from IPython.display import display\n",
    "\n",
    "import matplotlib.pyplot as plt"
   ]
  },
  {
   "cell_type": "markdown",
   "metadata": {},
   "source": [
    "Carreguei os dados:"
   ]
  },
  {
   "cell_type": "code",
   "execution_count": 2,
   "metadata": {},
   "outputs": [],
   "source": [
    "df = pd.read_csv('/datasets/car_data.csv')"
   ]
  },
  {
   "cell_type": "markdown",
   "metadata": {},
   "source": [
    "Mostrando as 10 primeiras linhas do dataframe:"
   ]
  },
  {
   "cell_type": "code",
   "execution_count": 3,
   "metadata": {
    "scrolled": true
   },
   "outputs": [
    {
     "data": {
      "text/html": [
       "<div>\n",
       "<style scoped>\n",
       "    .dataframe tbody tr th:only-of-type {\n",
       "        vertical-align: middle;\n",
       "    }\n",
       "\n",
       "    .dataframe tbody tr th {\n",
       "        vertical-align: top;\n",
       "    }\n",
       "\n",
       "    .dataframe thead th {\n",
       "        text-align: right;\n",
       "    }\n",
       "</style>\n",
       "<table border=\"1\" class=\"dataframe\">\n",
       "  <thead>\n",
       "    <tr style=\"text-align: right;\">\n",
       "      <th></th>\n",
       "      <th>DateCrawled</th>\n",
       "      <th>Price</th>\n",
       "      <th>VehicleType</th>\n",
       "      <th>RegistrationYear</th>\n",
       "      <th>Gearbox</th>\n",
       "      <th>Power</th>\n",
       "      <th>Model</th>\n",
       "      <th>Mileage</th>\n",
       "      <th>RegistrationMonth</th>\n",
       "      <th>FuelType</th>\n",
       "      <th>Brand</th>\n",
       "      <th>NotRepaired</th>\n",
       "      <th>DateCreated</th>\n",
       "      <th>NumberOfPictures</th>\n",
       "      <th>PostalCode</th>\n",
       "      <th>LastSeen</th>\n",
       "    </tr>\n",
       "  </thead>\n",
       "  <tbody>\n",
       "    <tr>\n",
       "      <th>38943</th>\n",
       "      <td>19/03/2016 17:46</td>\n",
       "      <td>2650</td>\n",
       "      <td>small</td>\n",
       "      <td>2004</td>\n",
       "      <td>manual</td>\n",
       "      <td>83</td>\n",
       "      <td>jazz</td>\n",
       "      <td>125000</td>\n",
       "      <td>2</td>\n",
       "      <td>petrol</td>\n",
       "      <td>honda</td>\n",
       "      <td>no</td>\n",
       "      <td>19/03/2016 00:00</td>\n",
       "      <td>0</td>\n",
       "      <td>99947</td>\n",
       "      <td>21/03/2016 23:18</td>\n",
       "    </tr>\n",
       "    <tr>\n",
       "      <th>78637</th>\n",
       "      <td>04/04/2016 00:46</td>\n",
       "      <td>2500</td>\n",
       "      <td>sedan</td>\n",
       "      <td>1994</td>\n",
       "      <td>manual</td>\n",
       "      <td>150</td>\n",
       "      <td>5er</td>\n",
       "      <td>150000</td>\n",
       "      <td>10</td>\n",
       "      <td>petrol</td>\n",
       "      <td>bmw</td>\n",
       "      <td>no</td>\n",
       "      <td>03/04/2016 00:00</td>\n",
       "      <td>0</td>\n",
       "      <td>76351</td>\n",
       "      <td>06/04/2016 07:16</td>\n",
       "    </tr>\n",
       "    <tr>\n",
       "      <th>315110</th>\n",
       "      <td>10/03/2016 19:36</td>\n",
       "      <td>850</td>\n",
       "      <td>small</td>\n",
       "      <td>2001</td>\n",
       "      <td>manual</td>\n",
       "      <td>58</td>\n",
       "      <td>agila</td>\n",
       "      <td>125000</td>\n",
       "      <td>9</td>\n",
       "      <td>petrol</td>\n",
       "      <td>opel</td>\n",
       "      <td>no</td>\n",
       "      <td>10/03/2016 00:00</td>\n",
       "      <td>0</td>\n",
       "      <td>42799</td>\n",
       "      <td>10/03/2016 19:36</td>\n",
       "    </tr>\n",
       "    <tr>\n",
       "      <th>269734</th>\n",
       "      <td>25/03/2016 11:40</td>\n",
       "      <td>2300</td>\n",
       "      <td>sedan</td>\n",
       "      <td>2002</td>\n",
       "      <td>manual</td>\n",
       "      <td>122</td>\n",
       "      <td>vectra</td>\n",
       "      <td>150000</td>\n",
       "      <td>3</td>\n",
       "      <td>petrol</td>\n",
       "      <td>opel</td>\n",
       "      <td>no</td>\n",
       "      <td>25/03/2016 00:00</td>\n",
       "      <td>0</td>\n",
       "      <td>53840</td>\n",
       "      <td>31/03/2016 18:15</td>\n",
       "    </tr>\n",
       "    <tr>\n",
       "      <th>262459</th>\n",
       "      <td>10/03/2016 16:06</td>\n",
       "      <td>1850</td>\n",
       "      <td>sedan</td>\n",
       "      <td>1999</td>\n",
       "      <td>NaN</td>\n",
       "      <td>0</td>\n",
       "      <td>3er</td>\n",
       "      <td>150000</td>\n",
       "      <td>3</td>\n",
       "      <td>petrol</td>\n",
       "      <td>bmw</td>\n",
       "      <td>no</td>\n",
       "      <td>10/03/2016 00:00</td>\n",
       "      <td>0</td>\n",
       "      <td>35614</td>\n",
       "      <td>06/04/2016 10:17</td>\n",
       "    </tr>\n",
       "    <tr>\n",
       "      <th>138886</th>\n",
       "      <td>22/03/2016 17:57</td>\n",
       "      <td>150</td>\n",
       "      <td>NaN</td>\n",
       "      <td>2000</td>\n",
       "      <td>manual</td>\n",
       "      <td>115</td>\n",
       "      <td>golf</td>\n",
       "      <td>150000</td>\n",
       "      <td>8</td>\n",
       "      <td>gasoline</td>\n",
       "      <td>volkswagen</td>\n",
       "      <td>NaN</td>\n",
       "      <td>22/03/2016 00:00</td>\n",
       "      <td>0</td>\n",
       "      <td>95339</td>\n",
       "      <td>22/03/2016 17:57</td>\n",
       "    </tr>\n",
       "    <tr>\n",
       "      <th>213945</th>\n",
       "      <td>29/03/2016 10:59</td>\n",
       "      <td>9999</td>\n",
       "      <td>coupe</td>\n",
       "      <td>1973</td>\n",
       "      <td>auto</td>\n",
       "      <td>185</td>\n",
       "      <td>other</td>\n",
       "      <td>150000</td>\n",
       "      <td>9</td>\n",
       "      <td>petrol</td>\n",
       "      <td>mercedes_benz</td>\n",
       "      <td>no</td>\n",
       "      <td>29/03/2016 00:00</td>\n",
       "      <td>0</td>\n",
       "      <td>88048</td>\n",
       "      <td>05/04/2016 19:46</td>\n",
       "    </tr>\n",
       "    <tr>\n",
       "      <th>205392</th>\n",
       "      <td>13/03/2016 17:48</td>\n",
       "      <td>16500</td>\n",
       "      <td>wagon</td>\n",
       "      <td>2010</td>\n",
       "      <td>manual</td>\n",
       "      <td>143</td>\n",
       "      <td>3er</td>\n",
       "      <td>125000</td>\n",
       "      <td>3</td>\n",
       "      <td>gasoline</td>\n",
       "      <td>bmw</td>\n",
       "      <td>no</td>\n",
       "      <td>13/03/2016 00:00</td>\n",
       "      <td>0</td>\n",
       "      <td>90552</td>\n",
       "      <td>06/04/2016 17:46</td>\n",
       "    </tr>\n",
       "    <tr>\n",
       "      <th>118381</th>\n",
       "      <td>20/03/2016 09:51</td>\n",
       "      <td>2650</td>\n",
       "      <td>small</td>\n",
       "      <td>2002</td>\n",
       "      <td>auto</td>\n",
       "      <td>54</td>\n",
       "      <td>fortwo</td>\n",
       "      <td>80000</td>\n",
       "      <td>10</td>\n",
       "      <td>petrol</td>\n",
       "      <td>smart</td>\n",
       "      <td>no</td>\n",
       "      <td>20/03/2016 00:00</td>\n",
       "      <td>0</td>\n",
       "      <td>48432</td>\n",
       "      <td>23/03/2016 23:45</td>\n",
       "    </tr>\n",
       "    <tr>\n",
       "      <th>297349</th>\n",
       "      <td>14/03/2016 22:50</td>\n",
       "      <td>4499</td>\n",
       "      <td>sedan</td>\n",
       "      <td>2002</td>\n",
       "      <td>manual</td>\n",
       "      <td>122</td>\n",
       "      <td>vectra</td>\n",
       "      <td>150000</td>\n",
       "      <td>6</td>\n",
       "      <td>lpg</td>\n",
       "      <td>opel</td>\n",
       "      <td>no</td>\n",
       "      <td>14/03/2016 00:00</td>\n",
       "      <td>0</td>\n",
       "      <td>46499</td>\n",
       "      <td>15/03/2016 19:15</td>\n",
       "    </tr>\n",
       "  </tbody>\n",
       "</table>\n",
       "</div>"
      ],
      "text/plain": [
       "             DateCrawled  Price VehicleType  RegistrationYear Gearbox  Power  \\\n",
       "38943   19/03/2016 17:46   2650       small              2004  manual     83   \n",
       "78637   04/04/2016 00:46   2500       sedan              1994  manual    150   \n",
       "315110  10/03/2016 19:36    850       small              2001  manual     58   \n",
       "269734  25/03/2016 11:40   2300       sedan              2002  manual    122   \n",
       "262459  10/03/2016 16:06   1850       sedan              1999     NaN      0   \n",
       "138886  22/03/2016 17:57    150         NaN              2000  manual    115   \n",
       "213945  29/03/2016 10:59   9999       coupe              1973    auto    185   \n",
       "205392  13/03/2016 17:48  16500       wagon              2010  manual    143   \n",
       "118381  20/03/2016 09:51   2650       small              2002    auto     54   \n",
       "297349  14/03/2016 22:50   4499       sedan              2002  manual    122   \n",
       "\n",
       "         Model  Mileage  RegistrationMonth  FuelType          Brand  \\\n",
       "38943     jazz   125000                  2    petrol          honda   \n",
       "78637      5er   150000                 10    petrol            bmw   \n",
       "315110   agila   125000                  9    petrol           opel   \n",
       "269734  vectra   150000                  3    petrol           opel   \n",
       "262459     3er   150000                  3    petrol            bmw   \n",
       "138886    golf   150000                  8  gasoline     volkswagen   \n",
       "213945   other   150000                  9    petrol  mercedes_benz   \n",
       "205392     3er   125000                  3  gasoline            bmw   \n",
       "118381  fortwo    80000                 10    petrol          smart   \n",
       "297349  vectra   150000                  6       lpg           opel   \n",
       "\n",
       "       NotRepaired       DateCreated  NumberOfPictures  PostalCode  \\\n",
       "38943           no  19/03/2016 00:00                 0       99947   \n",
       "78637           no  03/04/2016 00:00                 0       76351   \n",
       "315110          no  10/03/2016 00:00                 0       42799   \n",
       "269734          no  25/03/2016 00:00                 0       53840   \n",
       "262459          no  10/03/2016 00:00                 0       35614   \n",
       "138886         NaN  22/03/2016 00:00                 0       95339   \n",
       "213945          no  29/03/2016 00:00                 0       88048   \n",
       "205392          no  13/03/2016 00:00                 0       90552   \n",
       "118381          no  20/03/2016 00:00                 0       48432   \n",
       "297349          no  14/03/2016 00:00                 0       46499   \n",
       "\n",
       "                LastSeen  \n",
       "38943   21/03/2016 23:18  \n",
       "78637   06/04/2016 07:16  \n",
       "315110  10/03/2016 19:36  \n",
       "269734  31/03/2016 18:15  \n",
       "262459  06/04/2016 10:17  \n",
       "138886  22/03/2016 17:57  \n",
       "213945  05/04/2016 19:46  \n",
       "205392  06/04/2016 17:46  \n",
       "118381  23/03/2016 23:45  \n",
       "297349  15/03/2016 19:15  "
      ]
     },
     "execution_count": 3,
     "metadata": {},
     "output_type": "execute_result"
    }
   ],
   "source": [
    "df.sample(10)"
   ]
  },
  {
   "cell_type": "code",
   "execution_count": 4,
   "metadata": {},
   "outputs": [
    {
     "name": "stdout",
     "output_type": "stream",
     "text": [
      "<class 'pandas.core.frame.DataFrame'>\n",
      "RangeIndex: 354369 entries, 0 to 354368\n",
      "Data columns (total 16 columns):\n",
      " #   Column             Non-Null Count   Dtype \n",
      "---  ------             --------------   ----- \n",
      " 0   DateCrawled        354369 non-null  object\n",
      " 1   Price              354369 non-null  int64 \n",
      " 2   VehicleType        316879 non-null  object\n",
      " 3   RegistrationYear   354369 non-null  int64 \n",
      " 4   Gearbox            334536 non-null  object\n",
      " 5   Power              354369 non-null  int64 \n",
      " 6   Model              334664 non-null  object\n",
      " 7   Mileage            354369 non-null  int64 \n",
      " 8   RegistrationMonth  354369 non-null  int64 \n",
      " 9   FuelType           321474 non-null  object\n",
      " 10  Brand              354369 non-null  object\n",
      " 11  NotRepaired        283215 non-null  object\n",
      " 12  DateCreated        354369 non-null  object\n",
      " 13  NumberOfPictures   354369 non-null  int64 \n",
      " 14  PostalCode         354369 non-null  int64 \n",
      " 15  LastSeen           354369 non-null  object\n",
      "dtypes: int64(7), object(9)\n",
      "memory usage: 43.3+ MB\n"
     ]
    }
   ],
   "source": [
    "df.info()"
   ]
  },
  {
   "cell_type": "markdown",
   "metadata": {},
   "source": [
    "Aqui percebi que existem  valores ausentes e as colunas data não estão no formato data correto. As outras variáveis estão nos formatos corretos. Posteriormente, farei o pré-processamento de dados para lidar com essas questões.  "
   ]
  },
  {
   "cell_type": "code",
   "execution_count": 5,
   "metadata": {
    "scrolled": true
   },
   "outputs": [
    {
     "data": {
      "text/plain": [
       "DateCrawled           0.000000\n",
       "Price                 0.000000\n",
       "VehicleType          10.579368\n",
       "RegistrationYear      0.000000\n",
       "Gearbox               5.596709\n",
       "Power                 0.000000\n",
       "Model                 5.560588\n",
       "Mileage               0.000000\n",
       "RegistrationMonth     0.000000\n",
       "FuelType              9.282697\n",
       "Brand                 0.000000\n",
       "NotRepaired          20.079070\n",
       "DateCreated           0.000000\n",
       "NumberOfPictures      0.000000\n",
       "PostalCode            0.000000\n",
       "LastSeen              0.000000\n",
       "dtype: float64"
      ]
     },
     "execution_count": 5,
     "metadata": {},
     "output_type": "execute_result"
    }
   ],
   "source": [
    "df.isna().mean()*100"
   ]
  },
  {
   "cell_type": "markdown",
   "metadata": {},
   "source": [
    "Transformando as colunas data:"
   ]
  },
  {
   "cell_type": "code",
   "execution_count": 6,
   "metadata": {},
   "outputs": [],
   "source": [
    "df['DateCrawled'] = pd.to_datetime(df['DateCrawled'],format = '%d/%m/%Y %H:%M') \n",
    "df['DateCreated'] = pd.to_datetime(df['DateCreated'],format = '%d/%m/%Y %H:%M') \n",
    "df['LastSeen'] = pd.to_datetime(df['LastSeen'],format = '%d/%m/%Y %H:%M') \n"
   ]
  },
  {
   "cell_type": "code",
   "execution_count": 7,
   "metadata": {
    "scrolled": true
   },
   "outputs": [
    {
     "name": "stdout",
     "output_type": "stream",
     "text": [
      "<class 'pandas.core.frame.DataFrame'>\n",
      "RangeIndex: 354369 entries, 0 to 354368\n",
      "Data columns (total 16 columns):\n",
      " #   Column             Non-Null Count   Dtype         \n",
      "---  ------             --------------   -----         \n",
      " 0   DateCrawled        354369 non-null  datetime64[ns]\n",
      " 1   Price              354369 non-null  int64         \n",
      " 2   VehicleType        316879 non-null  object        \n",
      " 3   RegistrationYear   354369 non-null  int64         \n",
      " 4   Gearbox            334536 non-null  object        \n",
      " 5   Power              354369 non-null  int64         \n",
      " 6   Model              334664 non-null  object        \n",
      " 7   Mileage            354369 non-null  int64         \n",
      " 8   RegistrationMonth  354369 non-null  int64         \n",
      " 9   FuelType           321474 non-null  object        \n",
      " 10  Brand              354369 non-null  object        \n",
      " 11  NotRepaired        283215 non-null  object        \n",
      " 12  DateCreated        354369 non-null  datetime64[ns]\n",
      " 13  NumberOfPictures   354369 non-null  int64         \n",
      " 14  PostalCode         354369 non-null  int64         \n",
      " 15  LastSeen           354369 non-null  datetime64[ns]\n",
      "dtypes: datetime64[ns](3), int64(7), object(6)\n",
      "memory usage: 43.3+ MB\n"
     ]
    }
   ],
   "source": [
    "df.info()"
   ]
  },
  {
   "cell_type": "markdown",
   "metadata": {},
   "source": [
    "Estudando o balanceamento  de classes:"
   ]
  },
  {
   "cell_type": "code",
   "execution_count": 8,
   "metadata": {
    "scrolled": true
   },
   "outputs": [
    {
     "name": "stdout",
     "output_type": "stream",
     "text": [
      "Value Counts: VehicleType\n",
      "VehicleType\n",
      "sedan          25.808409\n",
      "small          22.527648\n",
      "wagon          18.389306\n",
      "bus             8.120067\n",
      "convertible     5.701119\n",
      "coupe           4.561065\n",
      "suv             3.385172\n",
      "other           0.927846\n",
      "dtype: float64\n",
      "\n",
      "Value Counts: Gearbox\n",
      "Gearbox\n",
      "manual    75.698213\n",
      "auto      18.705079\n",
      "dtype: float64\n",
      "\n",
      "Value Counts: Model\n",
      "Model\n",
      "golf                  8.249029\n",
      "other                 6.891404\n",
      "3er                   5.576391\n",
      "polo                  3.687117\n",
      "corsa                 3.547150\n",
      "                        ...   \n",
      "serie_2               0.002258\n",
      "serie_3               0.001129\n",
      "rangerover            0.001129\n",
      "range_rover_evoque    0.000564\n",
      "serie_1               0.000564\n",
      "Length: 250, dtype: float64\n",
      "\n",
      "Value Counts: FuelType\n",
      "FuelType\n",
      "petrol      61.052744\n",
      "gasoline    27.857967\n",
      "lpg          1.498438\n",
      "cng          0.159438\n",
      "hybrid       0.065751\n",
      "other        0.057567\n",
      "electric     0.025397\n",
      "dtype: float64\n",
      "\n",
      "Value Counts: Brand\n",
      "Brand\n",
      "volkswagen        21.732431\n",
      "opel              11.268198\n",
      "bmw               10.416825\n",
      "mercedes_benz      9.043116\n",
      "audi               8.312240\n",
      "ford               7.105305\n",
      "renault            5.058851\n",
      "peugeot            3.103545\n",
      "fiat               2.721175\n",
      "seat               1.949098\n",
      "mazda              1.584507\n",
      "skoda              1.552054\n",
      "smart              1.480378\n",
      "citroen            1.452723\n",
      "nissan             1.394309\n",
      "toyota             1.299775\n",
      "hyundai            1.012222\n",
      "sonstige_autos     0.952115\n",
      "volvo              0.905835\n",
      "mini               0.903578\n",
      "mitsubishi         0.852783\n",
      "honda              0.794934\n",
      "kia                0.695603\n",
      "suzuki             0.655531\n",
      "alfa_romeo         0.652992\n",
      "chevrolet          0.494964\n",
      "chrysler           0.406074\n",
      "dacia              0.253973\n",
      "daihatsu           0.227447\n",
      "subaru             0.215030\n",
      "porsche            0.213901\n",
      "jeep               0.191044\n",
      "trabant            0.166211\n",
      "land_rover         0.153794\n",
      "daewoo             0.152948\n",
      "saab               0.148433\n",
      "jaguar             0.142507\n",
      "rover              0.137145\n",
      "lancia             0.132912\n",
      "lada               0.063493\n",
      "dtype: float64\n",
      "\n",
      "Value Counts: NotRepaired\n",
      "NotRepaired\n",
      "no     69.746789\n",
      "yes    10.174141\n",
      "dtype: float64\n",
      "\n"
     ]
    }
   ],
   "source": [
    "colunas_estudo = ['VehicleType', 'Gearbox','Model','FuelType', 'Brand','NotRepaired']\n",
    "colunas_estudo\n",
    "for i in colunas_estudo:\n",
    "    print('Value Counts:',i)\n",
    "    print(df.value_counts(i)/df.shape[0]*100)\n",
    "    print()"
   ]
  },
  {
   "cell_type": "markdown",
   "metadata": {},
   "source": [
    "Percebi que a coluna com número de fotos do veículo está toda desajustada. Portanto, decidi excluí-la. "
   ]
  },
  {
   "cell_type": "code",
   "execution_count": 9,
   "metadata": {},
   "outputs": [],
   "source": [
    "df.drop('NumberOfPictures', axis=1, inplace=True)"
   ]
  },
  {
   "cell_type": "markdown",
   "metadata": {},
   "source": [
    "Substitui todos os valores ausentes da coluna 'NotRepaired' por ‘no’. Após, alterei todos os valores 'no' por 0 e 'yes' por 1. Assim, poderei usar essa coluna nos modelos posteriores de regressão. "
   ]
  },
  {
   "cell_type": "code",
   "execution_count": 10,
   "metadata": {},
   "outputs": [
    {
     "data": {
      "text/plain": [
       "0    0.898259\n",
       "1    0.101741\n",
       "Name: NotRepaired, dtype: float64"
      ]
     },
     "execution_count": 10,
     "metadata": {},
     "output_type": "execute_result"
    }
   ],
   "source": [
    "df['NotRepaired'] = df['NotRepaired'].fillna('no')\n",
    "df['NotRepaired'] = np.where(df['NotRepaired']=='no', 0, 1)\n",
    "df['NotRepaired'].value_counts()/len(df['NotRepaired'])"
   ]
  },
  {
   "cell_type": "markdown",
   "metadata": {},
   "source": [
    "Verifiquei que ‘petrol’ e ‘gasoline’ referem-se ao mesmo tipo de combustível. Logo todos esses valores serão considerados como ‘gasoline’. "
   ]
  },
  {
   "cell_type": "code",
   "execution_count": 11,
   "metadata": {},
   "outputs": [],
   "source": [
    "df.loc[df['FuelType'] =='petrol','FuelType'] = 'gasoline'"
   ]
  },
  {
   "cell_type": "markdown",
   "metadata": {},
   "source": [
    "Como é muito difícil fazer qualquer previsão sobre o modelo. Resolvi substituir todos os valores ausentes da coluna por 'other' que era uma coluna que já existia no dataframe. "
   ]
  },
  {
   "cell_type": "code",
   "execution_count": 12,
   "metadata": {},
   "outputs": [],
   "source": [
    "df['Model'] = df['Model'].fillna('other')"
   ]
  },
  {
   "cell_type": "code",
   "execution_count": 13,
   "metadata": {},
   "outputs": [
    {
     "data": {
      "text/plain": [
       "other                 44126\n",
       "golf                  29232\n",
       "3er                   19761\n",
       "polo                  13066\n",
       "corsa                 12570\n",
       "                      ...  \n",
       "i3                        8\n",
       "serie_3                   4\n",
       "rangerover                4\n",
       "serie_1                   2\n",
       "range_rover_evoque        2\n",
       "Name: Model, Length: 250, dtype: int64"
      ]
     },
     "execution_count": 13,
     "metadata": {},
     "output_type": "execute_result"
    }
   ],
   "source": [
    "df['Model'].value_counts()"
   ]
  },
  {
   "cell_type": "markdown",
   "metadata": {},
   "source": [
    "Para converter os valores ausentes das colunas: tipo de veículo, tipo de caixa de transmissão e tipo de combustível, escolhi o valor mais comum em relação ao modelo. "
   ]
  },
  {
   "cell_type": "code",
   "execution_count": 14,
   "metadata": {},
   "outputs": [
    {
     "data": {
      "text/html": [
       "<div>\n",
       "<style scoped>\n",
       "    .dataframe tbody tr th:only-of-type {\n",
       "        vertical-align: middle;\n",
       "    }\n",
       "\n",
       "    .dataframe tbody tr th {\n",
       "        vertical-align: top;\n",
       "    }\n",
       "\n",
       "    .dataframe thead th {\n",
       "        text-align: right;\n",
       "    }\n",
       "</style>\n",
       "<table border=\"1\" class=\"dataframe\">\n",
       "  <thead>\n",
       "    <tr style=\"text-align: right;\">\n",
       "      <th></th>\n",
       "      <th>Model</th>\n",
       "      <th>VehicleType</th>\n",
       "      <th>Gearbox</th>\n",
       "      <th>FuelType</th>\n",
       "    </tr>\n",
       "  </thead>\n",
       "  <tbody>\n",
       "    <tr>\n",
       "      <th>0</th>\n",
       "      <td>100</td>\n",
       "      <td>sedan</td>\n",
       "      <td>manual</td>\n",
       "      <td>gasoline</td>\n",
       "    </tr>\n",
       "    <tr>\n",
       "      <th>1</th>\n",
       "      <td>145</td>\n",
       "      <td>small</td>\n",
       "      <td>manual</td>\n",
       "      <td>gasoline</td>\n",
       "    </tr>\n",
       "    <tr>\n",
       "      <th>2</th>\n",
       "      <td>147</td>\n",
       "      <td>sedan</td>\n",
       "      <td>manual</td>\n",
       "      <td>gasoline</td>\n",
       "    </tr>\n",
       "    <tr>\n",
       "      <th>3</th>\n",
       "      <td>156</td>\n",
       "      <td>wagon</td>\n",
       "      <td>manual</td>\n",
       "      <td>gasoline</td>\n",
       "    </tr>\n",
       "    <tr>\n",
       "      <th>4</th>\n",
       "      <td>159</td>\n",
       "      <td>wagon</td>\n",
       "      <td>manual</td>\n",
       "      <td>gasoline</td>\n",
       "    </tr>\n",
       "    <tr>\n",
       "      <th>...</th>\n",
       "      <td>...</td>\n",
       "      <td>...</td>\n",
       "      <td>...</td>\n",
       "      <td>...</td>\n",
       "    </tr>\n",
       "    <tr>\n",
       "      <th>245</th>\n",
       "      <td>yaris</td>\n",
       "      <td>small</td>\n",
       "      <td>manual</td>\n",
       "      <td>gasoline</td>\n",
       "    </tr>\n",
       "    <tr>\n",
       "      <th>246</th>\n",
       "      <td>yeti</td>\n",
       "      <td>suv</td>\n",
       "      <td>manual</td>\n",
       "      <td>gasoline</td>\n",
       "    </tr>\n",
       "    <tr>\n",
       "      <th>247</th>\n",
       "      <td>ypsilon</td>\n",
       "      <td>small</td>\n",
       "      <td>manual</td>\n",
       "      <td>gasoline</td>\n",
       "    </tr>\n",
       "    <tr>\n",
       "      <th>248</th>\n",
       "      <td>z_reihe</td>\n",
       "      <td>convertible</td>\n",
       "      <td>manual</td>\n",
       "      <td>gasoline</td>\n",
       "    </tr>\n",
       "    <tr>\n",
       "      <th>249</th>\n",
       "      <td>zafira</td>\n",
       "      <td>bus</td>\n",
       "      <td>manual</td>\n",
       "      <td>gasoline</td>\n",
       "    </tr>\n",
       "  </tbody>\n",
       "</table>\n",
       "<p>250 rows × 4 columns</p>\n",
       "</div>"
      ],
      "text/plain": [
       "       Model  VehicleType Gearbox  FuelType\n",
       "0        100        sedan  manual  gasoline\n",
       "1        145        small  manual  gasoline\n",
       "2        147        sedan  manual  gasoline\n",
       "3        156        wagon  manual  gasoline\n",
       "4        159        wagon  manual  gasoline\n",
       "..       ...          ...     ...       ...\n",
       "245    yaris        small  manual  gasoline\n",
       "246     yeti          suv  manual  gasoline\n",
       "247  ypsilon        small  manual  gasoline\n",
       "248  z_reihe  convertible  manual  gasoline\n",
       "249   zafira          bus  manual  gasoline\n",
       "\n",
       "[250 rows x 4 columns]"
      ]
     },
     "execution_count": 14,
     "metadata": {},
     "output_type": "execute_result"
    }
   ],
   "source": [
    "tabela_VehicleType = df.groupby('Model')['VehicleType'].apply(lambda x: x.mode()[0])\n",
    "tabela_Gearbox = df.groupby('Model')['Gearbox'].apply(lambda x: x.mode()[0])\n",
    "tabela_FuelType = df.groupby('Model')['FuelType'].apply(lambda x: x.mode()[0])\n",
    "tabela = pd.concat([tabela_VehicleType,tabela_Gearbox,tabela_FuelType], axis=1)\n",
    "tabela = tabela.reset_index()\n",
    "tabela"
   ]
  },
  {
   "cell_type": "code",
   "execution_count": 15,
   "metadata": {},
   "outputs": [
    {
     "data": {
      "text/html": [
       "<div>\n",
       "<style scoped>\n",
       "    .dataframe tbody tr th:only-of-type {\n",
       "        vertical-align: middle;\n",
       "    }\n",
       "\n",
       "    .dataframe tbody tr th {\n",
       "        vertical-align: top;\n",
       "    }\n",
       "\n",
       "    .dataframe thead th {\n",
       "        text-align: right;\n",
       "    }\n",
       "</style>\n",
       "<table border=\"1\" class=\"dataframe\">\n",
       "  <thead>\n",
       "    <tr style=\"text-align: right;\">\n",
       "      <th></th>\n",
       "      <th>DateCrawled</th>\n",
       "      <th>Price</th>\n",
       "      <th>VehicleType_x</th>\n",
       "      <th>RegistrationYear</th>\n",
       "      <th>Gearbox_x</th>\n",
       "      <th>Power</th>\n",
       "      <th>Model</th>\n",
       "      <th>Mileage</th>\n",
       "      <th>RegistrationMonth</th>\n",
       "      <th>FuelType_x</th>\n",
       "      <th>Brand</th>\n",
       "      <th>NotRepaired</th>\n",
       "      <th>DateCreated</th>\n",
       "      <th>PostalCode</th>\n",
       "      <th>LastSeen</th>\n",
       "      <th>VehicleType_y</th>\n",
       "      <th>Gearbox_y</th>\n",
       "      <th>FuelType_y</th>\n",
       "    </tr>\n",
       "  </thead>\n",
       "  <tbody>\n",
       "    <tr>\n",
       "      <th>0</th>\n",
       "      <td>2016-03-24 11:52:00</td>\n",
       "      <td>480</td>\n",
       "      <td>NaN</td>\n",
       "      <td>1993</td>\n",
       "      <td>manual</td>\n",
       "      <td>0</td>\n",
       "      <td>golf</td>\n",
       "      <td>150000</td>\n",
       "      <td>0</td>\n",
       "      <td>gasoline</td>\n",
       "      <td>volkswagen</td>\n",
       "      <td>0</td>\n",
       "      <td>2016-03-24</td>\n",
       "      <td>70435</td>\n",
       "      <td>2016-04-07 03:16:00</td>\n",
       "      <td>sedan</td>\n",
       "      <td>manual</td>\n",
       "      <td>gasoline</td>\n",
       "    </tr>\n",
       "    <tr>\n",
       "      <th>1</th>\n",
       "      <td>2016-03-24 10:58:00</td>\n",
       "      <td>18300</td>\n",
       "      <td>coupe</td>\n",
       "      <td>2011</td>\n",
       "      <td>manual</td>\n",
       "      <td>190</td>\n",
       "      <td>other</td>\n",
       "      <td>125000</td>\n",
       "      <td>5</td>\n",
       "      <td>gasoline</td>\n",
       "      <td>audi</td>\n",
       "      <td>1</td>\n",
       "      <td>2016-03-24</td>\n",
       "      <td>66954</td>\n",
       "      <td>2016-04-07 01:46:00</td>\n",
       "      <td>sedan</td>\n",
       "      <td>manual</td>\n",
       "      <td>gasoline</td>\n",
       "    </tr>\n",
       "    <tr>\n",
       "      <th>2</th>\n",
       "      <td>2016-03-14 12:52:00</td>\n",
       "      <td>9800</td>\n",
       "      <td>suv</td>\n",
       "      <td>2004</td>\n",
       "      <td>auto</td>\n",
       "      <td>163</td>\n",
       "      <td>grand</td>\n",
       "      <td>125000</td>\n",
       "      <td>8</td>\n",
       "      <td>gasoline</td>\n",
       "      <td>jeep</td>\n",
       "      <td>0</td>\n",
       "      <td>2016-03-14</td>\n",
       "      <td>90480</td>\n",
       "      <td>2016-04-05 12:47:00</td>\n",
       "      <td>suv</td>\n",
       "      <td>auto</td>\n",
       "      <td>gasoline</td>\n",
       "    </tr>\n",
       "    <tr>\n",
       "      <th>3</th>\n",
       "      <td>2016-03-17 16:54:00</td>\n",
       "      <td>1500</td>\n",
       "      <td>small</td>\n",
       "      <td>2001</td>\n",
       "      <td>manual</td>\n",
       "      <td>75</td>\n",
       "      <td>golf</td>\n",
       "      <td>150000</td>\n",
       "      <td>6</td>\n",
       "      <td>gasoline</td>\n",
       "      <td>volkswagen</td>\n",
       "      <td>0</td>\n",
       "      <td>2016-03-17</td>\n",
       "      <td>91074</td>\n",
       "      <td>2016-03-17 17:40:00</td>\n",
       "      <td>sedan</td>\n",
       "      <td>manual</td>\n",
       "      <td>gasoline</td>\n",
       "    </tr>\n",
       "    <tr>\n",
       "      <th>4</th>\n",
       "      <td>2016-03-31 17:25:00</td>\n",
       "      <td>3600</td>\n",
       "      <td>small</td>\n",
       "      <td>2008</td>\n",
       "      <td>manual</td>\n",
       "      <td>69</td>\n",
       "      <td>fabia</td>\n",
       "      <td>90000</td>\n",
       "      <td>7</td>\n",
       "      <td>gasoline</td>\n",
       "      <td>skoda</td>\n",
       "      <td>0</td>\n",
       "      <td>2016-03-31</td>\n",
       "      <td>60437</td>\n",
       "      <td>2016-04-06 10:17:00</td>\n",
       "      <td>small</td>\n",
       "      <td>manual</td>\n",
       "      <td>gasoline</td>\n",
       "    </tr>\n",
       "    <tr>\n",
       "      <th>...</th>\n",
       "      <td>...</td>\n",
       "      <td>...</td>\n",
       "      <td>...</td>\n",
       "      <td>...</td>\n",
       "      <td>...</td>\n",
       "      <td>...</td>\n",
       "      <td>...</td>\n",
       "      <td>...</td>\n",
       "      <td>...</td>\n",
       "      <td>...</td>\n",
       "      <td>...</td>\n",
       "      <td>...</td>\n",
       "      <td>...</td>\n",
       "      <td>...</td>\n",
       "      <td>...</td>\n",
       "      <td>...</td>\n",
       "      <td>...</td>\n",
       "      <td>...</td>\n",
       "    </tr>\n",
       "    <tr>\n",
       "      <th>354364</th>\n",
       "      <td>2016-03-21 09:50:00</td>\n",
       "      <td>0</td>\n",
       "      <td>NaN</td>\n",
       "      <td>2005</td>\n",
       "      <td>manual</td>\n",
       "      <td>0</td>\n",
       "      <td>colt</td>\n",
       "      <td>150000</td>\n",
       "      <td>7</td>\n",
       "      <td>gasoline</td>\n",
       "      <td>mitsubishi</td>\n",
       "      <td>1</td>\n",
       "      <td>2016-03-21</td>\n",
       "      <td>2694</td>\n",
       "      <td>2016-03-21 10:42:00</td>\n",
       "      <td>sedan</td>\n",
       "      <td>manual</td>\n",
       "      <td>gasoline</td>\n",
       "    </tr>\n",
       "    <tr>\n",
       "      <th>354365</th>\n",
       "      <td>2016-03-14 17:48:00</td>\n",
       "      <td>2200</td>\n",
       "      <td>NaN</td>\n",
       "      <td>2005</td>\n",
       "      <td>NaN</td>\n",
       "      <td>0</td>\n",
       "      <td>other</td>\n",
       "      <td>20000</td>\n",
       "      <td>1</td>\n",
       "      <td>NaN</td>\n",
       "      <td>sonstige_autos</td>\n",
       "      <td>0</td>\n",
       "      <td>2016-03-14</td>\n",
       "      <td>39576</td>\n",
       "      <td>2016-04-06 00:46:00</td>\n",
       "      <td>sedan</td>\n",
       "      <td>manual</td>\n",
       "      <td>gasoline</td>\n",
       "    </tr>\n",
       "    <tr>\n",
       "      <th>354366</th>\n",
       "      <td>2016-03-05 19:56:00</td>\n",
       "      <td>1199</td>\n",
       "      <td>convertible</td>\n",
       "      <td>2000</td>\n",
       "      <td>auto</td>\n",
       "      <td>101</td>\n",
       "      <td>fortwo</td>\n",
       "      <td>125000</td>\n",
       "      <td>3</td>\n",
       "      <td>gasoline</td>\n",
       "      <td>smart</td>\n",
       "      <td>0</td>\n",
       "      <td>2016-03-05</td>\n",
       "      <td>26135</td>\n",
       "      <td>2016-03-11 18:17:00</td>\n",
       "      <td>small</td>\n",
       "      <td>auto</td>\n",
       "      <td>gasoline</td>\n",
       "    </tr>\n",
       "    <tr>\n",
       "      <th>354367</th>\n",
       "      <td>2016-03-19 18:57:00</td>\n",
       "      <td>9200</td>\n",
       "      <td>bus</td>\n",
       "      <td>1996</td>\n",
       "      <td>manual</td>\n",
       "      <td>102</td>\n",
       "      <td>transporter</td>\n",
       "      <td>150000</td>\n",
       "      <td>3</td>\n",
       "      <td>gasoline</td>\n",
       "      <td>volkswagen</td>\n",
       "      <td>0</td>\n",
       "      <td>2016-03-19</td>\n",
       "      <td>87439</td>\n",
       "      <td>2016-04-07 07:15:00</td>\n",
       "      <td>bus</td>\n",
       "      <td>manual</td>\n",
       "      <td>gasoline</td>\n",
       "    </tr>\n",
       "    <tr>\n",
       "      <th>354368</th>\n",
       "      <td>2016-03-20 19:41:00</td>\n",
       "      <td>3400</td>\n",
       "      <td>wagon</td>\n",
       "      <td>2002</td>\n",
       "      <td>manual</td>\n",
       "      <td>100</td>\n",
       "      <td>golf</td>\n",
       "      <td>150000</td>\n",
       "      <td>6</td>\n",
       "      <td>gasoline</td>\n",
       "      <td>volkswagen</td>\n",
       "      <td>0</td>\n",
       "      <td>2016-03-20</td>\n",
       "      <td>40764</td>\n",
       "      <td>2016-03-24 12:45:00</td>\n",
       "      <td>sedan</td>\n",
       "      <td>manual</td>\n",
       "      <td>gasoline</td>\n",
       "    </tr>\n",
       "  </tbody>\n",
       "</table>\n",
       "<p>354369 rows × 18 columns</p>\n",
       "</div>"
      ],
      "text/plain": [
       "               DateCrawled  Price VehicleType_x  RegistrationYear Gearbox_x  \\\n",
       "0      2016-03-24 11:52:00    480           NaN              1993    manual   \n",
       "1      2016-03-24 10:58:00  18300         coupe              2011    manual   \n",
       "2      2016-03-14 12:52:00   9800           suv              2004      auto   \n",
       "3      2016-03-17 16:54:00   1500         small              2001    manual   \n",
       "4      2016-03-31 17:25:00   3600         small              2008    manual   \n",
       "...                    ...    ...           ...               ...       ...   \n",
       "354364 2016-03-21 09:50:00      0           NaN              2005    manual   \n",
       "354365 2016-03-14 17:48:00   2200           NaN              2005       NaN   \n",
       "354366 2016-03-05 19:56:00   1199   convertible              2000      auto   \n",
       "354367 2016-03-19 18:57:00   9200           bus              1996    manual   \n",
       "354368 2016-03-20 19:41:00   3400         wagon              2002    manual   \n",
       "\n",
       "        Power        Model  Mileage  RegistrationMonth FuelType_x  \\\n",
       "0           0         golf   150000                  0   gasoline   \n",
       "1         190        other   125000                  5   gasoline   \n",
       "2         163        grand   125000                  8   gasoline   \n",
       "3          75         golf   150000                  6   gasoline   \n",
       "4          69        fabia    90000                  7   gasoline   \n",
       "...       ...          ...      ...                ...        ...   \n",
       "354364      0         colt   150000                  7   gasoline   \n",
       "354365      0        other    20000                  1        NaN   \n",
       "354366    101       fortwo   125000                  3   gasoline   \n",
       "354367    102  transporter   150000                  3   gasoline   \n",
       "354368    100         golf   150000                  6   gasoline   \n",
       "\n",
       "                 Brand  NotRepaired DateCreated  PostalCode  \\\n",
       "0           volkswagen            0  2016-03-24       70435   \n",
       "1                 audi            1  2016-03-24       66954   \n",
       "2                 jeep            0  2016-03-14       90480   \n",
       "3           volkswagen            0  2016-03-17       91074   \n",
       "4                skoda            0  2016-03-31       60437   \n",
       "...                ...          ...         ...         ...   \n",
       "354364      mitsubishi            1  2016-03-21        2694   \n",
       "354365  sonstige_autos            0  2016-03-14       39576   \n",
       "354366           smart            0  2016-03-05       26135   \n",
       "354367      volkswagen            0  2016-03-19       87439   \n",
       "354368      volkswagen            0  2016-03-20       40764   \n",
       "\n",
       "                  LastSeen VehicleType_y Gearbox_y FuelType_y  \n",
       "0      2016-04-07 03:16:00         sedan    manual   gasoline  \n",
       "1      2016-04-07 01:46:00         sedan    manual   gasoline  \n",
       "2      2016-04-05 12:47:00           suv      auto   gasoline  \n",
       "3      2016-03-17 17:40:00         sedan    manual   gasoline  \n",
       "4      2016-04-06 10:17:00         small    manual   gasoline  \n",
       "...                    ...           ...       ...        ...  \n",
       "354364 2016-03-21 10:42:00         sedan    manual   gasoline  \n",
       "354365 2016-04-06 00:46:00         sedan    manual   gasoline  \n",
       "354366 2016-03-11 18:17:00         small      auto   gasoline  \n",
       "354367 2016-04-07 07:15:00           bus    manual   gasoline  \n",
       "354368 2016-03-24 12:45:00         sedan    manual   gasoline  \n",
       "\n",
       "[354369 rows x 18 columns]"
      ]
     },
     "execution_count": 15,
     "metadata": {},
     "output_type": "execute_result"
    }
   ],
   "source": [
    "merge_df=df.merge(tabela,on='Model',how='left')\n",
    "merge_df"
   ]
  },
  {
   "cell_type": "code",
   "execution_count": 16,
   "metadata": {},
   "outputs": [],
   "source": [
    "def preencher_Gearbox_x(row): \n",
    "    Gearbox_x = row['Gearbox_x']\n",
    "    Gearbox_y = row['Gearbox_y']\n",
    "\n",
    "    if pd.isna(Gearbox_x):\n",
    "        return Gearbox_y  \n",
    "    else:\n",
    "        return Gearbox_x "
   ]
  },
  {
   "cell_type": "code",
   "execution_count": 17,
   "metadata": {},
   "outputs": [],
   "source": [
    "def preencher_VehicleType_x(row): \n",
    "    VehicleType_x = row['VehicleType_x']\n",
    "    VehicleType_y = row['VehicleType_y']\n",
    "\n",
    "    if pd.isna(VehicleType_x):\n",
    "        return VehicleType_y  \n",
    "    else:\n",
    "        return VehicleType_x "
   ]
  },
  {
   "cell_type": "code",
   "execution_count": 18,
   "metadata": {},
   "outputs": [],
   "source": [
    "def FuelType_x(row): \n",
    "    FuelType_x = row['FuelType_x']\n",
    "    FuelType_y = row['FuelType_y']\n",
    "\n",
    "    if pd.isna(FuelType_x):\n",
    "        return FuelType_y  \n",
    "    else:\n",
    "        return FuelType_x "
   ]
  },
  {
   "cell_type": "code",
   "execution_count": 19,
   "metadata": {},
   "outputs": [],
   "source": [
    "\n",
    "merge_df['Gearbox_x'] = merge_df.apply(preencher_Gearbox_x, axis=1)"
   ]
  },
  {
   "cell_type": "code",
   "execution_count": 20,
   "metadata": {},
   "outputs": [],
   "source": [
    "merge_df['VehicleType_x'] = merge_df.apply(preencher_VehicleType_x, axis=1)"
   ]
  },
  {
   "cell_type": "code",
   "execution_count": 21,
   "metadata": {},
   "outputs": [],
   "source": [
    "merge_df['FuelType_x'] = merge_df.apply(FuelType_x, axis=1)"
   ]
  },
  {
   "cell_type": "code",
   "execution_count": 22,
   "metadata": {},
   "outputs": [],
   "source": [
    "\n",
    "merge_df['FuelType_x'] = merge_df.apply(FuelType_x, axis=1)\n"
   ]
  },
  {
   "cell_type": "markdown",
   "metadata": {},
   "source": [
    "Conferi que não existem  mais valores nulos na tabela:"
   ]
  },
  {
   "cell_type": "code",
   "execution_count": 23,
   "metadata": {
    "scrolled": true
   },
   "outputs": [
    {
     "name": "stdout",
     "output_type": "stream",
     "text": [
      "<class 'pandas.core.frame.DataFrame'>\n",
      "Int64Index: 354369 entries, 0 to 354368\n",
      "Data columns (total 18 columns):\n",
      " #   Column              Non-Null Count   Dtype         \n",
      "---  ------              --------------   -----         \n",
      " 0   date_crawled        354369 non-null  datetime64[ns]\n",
      " 1   price               354369 non-null  int64         \n",
      " 2   vehicle_type        354369 non-null  object        \n",
      " 3   registration_year   354369 non-null  int64         \n",
      " 4   gearbox             354369 non-null  object        \n",
      " 5   power               354369 non-null  int64         \n",
      " 6   model               354369 non-null  object        \n",
      " 7   mileage             354369 non-null  int64         \n",
      " 8   registration_month  354369 non-null  int64         \n",
      " 9   fuel_type           354369 non-null  object        \n",
      " 10  brand               354369 non-null  object        \n",
      " 11  not_repaired        354369 non-null  int64         \n",
      " 12  date_created        354369 non-null  datetime64[ns]\n",
      " 13  postal_code         354369 non-null  int64         \n",
      " 14  last_seen           354369 non-null  datetime64[ns]\n",
      " 15  VehicleType_y       354369 non-null  object        \n",
      " 16  Gearbox_y           354369 non-null  object        \n",
      " 17  FuelType_y          354369 non-null  object        \n",
      "dtypes: datetime64[ns](3), int64(7), object(8)\n",
      "memory usage: 51.4+ MB\n"
     ]
    }
   ],
   "source": [
    "df = merge_df\n",
    "df=df.rename(columns={'DateCrawled':'date_crawled','Price':'price','RegistrationYear':'registration_year','Power':'power',\"Model\":'model','Mileage':'mileage','RegistrationMonth':'registration_month','Brand':'brand','NotRepaired':'not_repaired','DateCreated':'date_created','PostalCode':'postal_code','LastSeen':'last_seen' ,'Gearbox_x':'gearbox','VehicleType_x':'vehicle_type','FuelType_x':'fuel_type'})\n",
    "df.info()"
   ]
  },
  {
   "cell_type": "code",
   "execution_count": 24,
   "metadata": {},
   "outputs": [],
   "source": [
    "df.drop(['VehicleType_y','Gearbox_y','FuelType_y'], axis=1, inplace=True)"
   ]
  },
  {
   "cell_type": "markdown",
   "metadata": {},
   "source": [
    "Descobri quais os valores máximos e mínimos de data, desse modo sei quando este estudo foi feito.   "
   ]
  },
  {
   "cell_type": "code",
   "execution_count": 25,
   "metadata": {},
   "outputs": [
    {
     "data": {
      "text/plain": [
       "Timestamp('2016-04-07 14:36:00')"
      ]
     },
     "metadata": {},
     "output_type": "display_data"
    },
    {
     "data": {
      "text/plain": [
       "Timestamp('2016-03-05 14:06:00')"
      ]
     },
     "metadata": {},
     "output_type": "display_data"
    },
    {
     "data": {
      "text/plain": [
       "Timestamp('2016-04-07 00:00:00')"
      ]
     },
     "metadata": {},
     "output_type": "display_data"
    },
    {
     "data": {
      "text/plain": [
       "Timestamp('2014-03-10 00:00:00')"
      ]
     },
     "metadata": {},
     "output_type": "display_data"
    },
    {
     "data": {
      "text/plain": [
       "Timestamp('2016-04-07 14:58:00')"
      ]
     },
     "metadata": {},
     "output_type": "display_data"
    },
    {
     "data": {
      "text/plain": [
       "Timestamp('2016-03-05 14:15:00')"
      ]
     },
     "metadata": {},
     "output_type": "display_data"
    }
   ],
   "source": [
    "display(df['date_crawled'].max())\n",
    "display(df['date_crawled'].min())\n",
    "\n",
    "display(df['date_created'].max())\n",
    "display(df['date_created'].min())\n",
    "\n",
    "display(df['last_seen'].max())\n",
    "display(df['last_seen'].min())"
   ]
  },
  {
   "cell_type": "markdown",
   "metadata": {},
   "source": [
    "Gerei dados de correlação e descrição. Reparei que o preço tem maior correlação positiva com a força do motor (15,8%) e maior correlação negativa com a quilometragem do veículo (33,3%). "
   ]
  },
  {
   "cell_type": "code",
   "execution_count": 26,
   "metadata": {},
   "outputs": [
    {
     "data": {
      "text/html": [
       "<div>\n",
       "<style scoped>\n",
       "    .dataframe tbody tr th:only-of-type {\n",
       "        vertical-align: middle;\n",
       "    }\n",
       "\n",
       "    .dataframe tbody tr th {\n",
       "        vertical-align: top;\n",
       "    }\n",
       "\n",
       "    .dataframe thead th {\n",
       "        text-align: right;\n",
       "    }\n",
       "</style>\n",
       "<table border=\"1\" class=\"dataframe\">\n",
       "  <thead>\n",
       "    <tr style=\"text-align: right;\">\n",
       "      <th></th>\n",
       "      <th>price</th>\n",
       "      <th>registration_year</th>\n",
       "      <th>power</th>\n",
       "      <th>mileage</th>\n",
       "      <th>registration_month</th>\n",
       "      <th>not_repaired</th>\n",
       "      <th>postal_code</th>\n",
       "    </tr>\n",
       "  </thead>\n",
       "  <tbody>\n",
       "    <tr>\n",
       "      <th>price</th>\n",
       "      <td>1.000000</td>\n",
       "      <td>0.026916</td>\n",
       "      <td>0.158872</td>\n",
       "      <td>-0.333199</td>\n",
       "      <td>0.110581</td>\n",
       "      <td>-0.186431</td>\n",
       "      <td>0.076055</td>\n",
       "    </tr>\n",
       "    <tr>\n",
       "      <th>registration_year</th>\n",
       "      <td>0.026916</td>\n",
       "      <td>1.000000</td>\n",
       "      <td>-0.000828</td>\n",
       "      <td>-0.053447</td>\n",
       "      <td>-0.011619</td>\n",
       "      <td>-0.009760</td>\n",
       "      <td>-0.003459</td>\n",
       "    </tr>\n",
       "    <tr>\n",
       "      <th>power</th>\n",
       "      <td>0.158872</td>\n",
       "      <td>-0.000828</td>\n",
       "      <td>1.000000</td>\n",
       "      <td>0.024002</td>\n",
       "      <td>0.043380</td>\n",
       "      <td>-0.013518</td>\n",
       "      <td>0.021665</td>\n",
       "    </tr>\n",
       "    <tr>\n",
       "      <th>mileage</th>\n",
       "      <td>-0.333199</td>\n",
       "      <td>-0.053447</td>\n",
       "      <td>0.024002</td>\n",
       "      <td>1.000000</td>\n",
       "      <td>0.009571</td>\n",
       "      <td>0.070736</td>\n",
       "      <td>-0.007698</td>\n",
       "    </tr>\n",
       "    <tr>\n",
       "      <th>registration_month</th>\n",
       "      <td>0.110581</td>\n",
       "      <td>-0.011619</td>\n",
       "      <td>0.043380</td>\n",
       "      <td>0.009571</td>\n",
       "      <td>1.000000</td>\n",
       "      <td>-0.035102</td>\n",
       "      <td>0.013995</td>\n",
       "    </tr>\n",
       "    <tr>\n",
       "      <th>not_repaired</th>\n",
       "      <td>-0.186431</td>\n",
       "      <td>-0.009760</td>\n",
       "      <td>-0.013518</td>\n",
       "      <td>0.070736</td>\n",
       "      <td>-0.035102</td>\n",
       "      <td>1.000000</td>\n",
       "      <td>-0.001179</td>\n",
       "    </tr>\n",
       "    <tr>\n",
       "      <th>postal_code</th>\n",
       "      <td>0.076055</td>\n",
       "      <td>-0.003459</td>\n",
       "      <td>0.021665</td>\n",
       "      <td>-0.007698</td>\n",
       "      <td>0.013995</td>\n",
       "      <td>-0.001179</td>\n",
       "      <td>1.000000</td>\n",
       "    </tr>\n",
       "  </tbody>\n",
       "</table>\n",
       "</div>"
      ],
      "text/plain": [
       "                       price  registration_year     power   mileage  \\\n",
       "price               1.000000           0.026916  0.158872 -0.333199   \n",
       "registration_year   0.026916           1.000000 -0.000828 -0.053447   \n",
       "power               0.158872          -0.000828  1.000000  0.024002   \n",
       "mileage            -0.333199          -0.053447  0.024002  1.000000   \n",
       "registration_month  0.110581          -0.011619  0.043380  0.009571   \n",
       "not_repaired       -0.186431          -0.009760 -0.013518  0.070736   \n",
       "postal_code         0.076055          -0.003459  0.021665 -0.007698   \n",
       "\n",
       "                    registration_month  not_repaired  postal_code  \n",
       "price                         0.110581     -0.186431     0.076055  \n",
       "registration_year            -0.011619     -0.009760    -0.003459  \n",
       "power                         0.043380     -0.013518     0.021665  \n",
       "mileage                       0.009571      0.070736    -0.007698  \n",
       "registration_month            1.000000     -0.035102     0.013995  \n",
       "not_repaired                 -0.035102      1.000000    -0.001179  \n",
       "postal_code                   0.013995     -0.001179     1.000000  "
      ]
     },
     "execution_count": 26,
     "metadata": {},
     "output_type": "execute_result"
    }
   ],
   "source": [
    "df.corr()"
   ]
  },
  {
   "cell_type": "markdown",
   "metadata": {},
   "source": [
    "Aqui surgiram alguns valores estranhos:\n",
    "1) valor 0 no preço. Como alguém tentaria vender um veículo por nada?\n",
    "\n",
    "2) Idade mínima de registro 1000. Não existiam veículos nesse ano.\n",
    "\n",
    "3) Power 0 de mínimo e 20000 de máximo. Esses valores não são plausíveis. \n",
    "\n"
   ]
  },
  {
   "cell_type": "code",
   "execution_count": 27,
   "metadata": {
    "scrolled": true
   },
   "outputs": [
    {
     "data": {
      "text/html": [
       "<div>\n",
       "<style scoped>\n",
       "    .dataframe tbody tr th:only-of-type {\n",
       "        vertical-align: middle;\n",
       "    }\n",
       "\n",
       "    .dataframe tbody tr th {\n",
       "        vertical-align: top;\n",
       "    }\n",
       "\n",
       "    .dataframe thead th {\n",
       "        text-align: right;\n",
       "    }\n",
       "</style>\n",
       "<table border=\"1\" class=\"dataframe\">\n",
       "  <thead>\n",
       "    <tr style=\"text-align: right;\">\n",
       "      <th></th>\n",
       "      <th>price</th>\n",
       "      <th>registration_year</th>\n",
       "      <th>power</th>\n",
       "      <th>mileage</th>\n",
       "      <th>registration_month</th>\n",
       "      <th>not_repaired</th>\n",
       "      <th>postal_code</th>\n",
       "    </tr>\n",
       "  </thead>\n",
       "  <tbody>\n",
       "    <tr>\n",
       "      <th>count</th>\n",
       "      <td>354369.000000</td>\n",
       "      <td>354369.000000</td>\n",
       "      <td>354369.000000</td>\n",
       "      <td>354369.000000</td>\n",
       "      <td>354369.000000</td>\n",
       "      <td>354369.000000</td>\n",
       "      <td>354369.000000</td>\n",
       "    </tr>\n",
       "    <tr>\n",
       "      <th>mean</th>\n",
       "      <td>4416.656776</td>\n",
       "      <td>2004.234448</td>\n",
       "      <td>110.094337</td>\n",
       "      <td>128211.172535</td>\n",
       "      <td>5.714645</td>\n",
       "      <td>0.101741</td>\n",
       "      <td>50508.689087</td>\n",
       "    </tr>\n",
       "    <tr>\n",
       "      <th>std</th>\n",
       "      <td>4514.158514</td>\n",
       "      <td>90.227958</td>\n",
       "      <td>189.850405</td>\n",
       "      <td>37905.341530</td>\n",
       "      <td>3.726421</td>\n",
       "      <td>0.302308</td>\n",
       "      <td>25783.096248</td>\n",
       "    </tr>\n",
       "    <tr>\n",
       "      <th>min</th>\n",
       "      <td>0.000000</td>\n",
       "      <td>1000.000000</td>\n",
       "      <td>0.000000</td>\n",
       "      <td>5000.000000</td>\n",
       "      <td>0.000000</td>\n",
       "      <td>0.000000</td>\n",
       "      <td>1067.000000</td>\n",
       "    </tr>\n",
       "    <tr>\n",
       "      <th>25%</th>\n",
       "      <td>1050.000000</td>\n",
       "      <td>1999.000000</td>\n",
       "      <td>69.000000</td>\n",
       "      <td>125000.000000</td>\n",
       "      <td>3.000000</td>\n",
       "      <td>0.000000</td>\n",
       "      <td>30165.000000</td>\n",
       "    </tr>\n",
       "    <tr>\n",
       "      <th>50%</th>\n",
       "      <td>2700.000000</td>\n",
       "      <td>2003.000000</td>\n",
       "      <td>105.000000</td>\n",
       "      <td>150000.000000</td>\n",
       "      <td>6.000000</td>\n",
       "      <td>0.000000</td>\n",
       "      <td>49413.000000</td>\n",
       "    </tr>\n",
       "    <tr>\n",
       "      <th>75%</th>\n",
       "      <td>6400.000000</td>\n",
       "      <td>2008.000000</td>\n",
       "      <td>143.000000</td>\n",
       "      <td>150000.000000</td>\n",
       "      <td>9.000000</td>\n",
       "      <td>0.000000</td>\n",
       "      <td>71083.000000</td>\n",
       "    </tr>\n",
       "    <tr>\n",
       "      <th>max</th>\n",
       "      <td>20000.000000</td>\n",
       "      <td>9999.000000</td>\n",
       "      <td>20000.000000</td>\n",
       "      <td>150000.000000</td>\n",
       "      <td>12.000000</td>\n",
       "      <td>1.000000</td>\n",
       "      <td>99998.000000</td>\n",
       "    </tr>\n",
       "  </tbody>\n",
       "</table>\n",
       "</div>"
      ],
      "text/plain": [
       "               price  registration_year          power        mileage  \\\n",
       "count  354369.000000      354369.000000  354369.000000  354369.000000   \n",
       "mean     4416.656776        2004.234448     110.094337  128211.172535   \n",
       "std      4514.158514          90.227958     189.850405   37905.341530   \n",
       "min         0.000000        1000.000000       0.000000    5000.000000   \n",
       "25%      1050.000000        1999.000000      69.000000  125000.000000   \n",
       "50%      2700.000000        2003.000000     105.000000  150000.000000   \n",
       "75%      6400.000000        2008.000000     143.000000  150000.000000   \n",
       "max     20000.000000        9999.000000   20000.000000  150000.000000   \n",
       "\n",
       "       registration_month   not_repaired    postal_code  \n",
       "count       354369.000000  354369.000000  354369.000000  \n",
       "mean             5.714645       0.101741   50508.689087  \n",
       "std              3.726421       0.302308   25783.096248  \n",
       "min              0.000000       0.000000    1067.000000  \n",
       "25%              3.000000       0.000000   30165.000000  \n",
       "50%              6.000000       0.000000   49413.000000  \n",
       "75%              9.000000       0.000000   71083.000000  \n",
       "max             12.000000       1.000000   99998.000000  "
      ]
     },
     "execution_count": 27,
     "metadata": {},
     "output_type": "execute_result"
    }
   ],
   "source": [
    "df.describe()"
   ]
  },
  {
   "cell_type": "markdown",
   "metadata": {},
   "source": [
    "Os próximos passos serão para investigar esses casos e resolvê-los. "
   ]
  },
  {
   "cell_type": "markdown",
   "metadata": {},
   "source": [
    "Boxplot das variáveis: "
   ]
  },
  {
   "cell_type": "code",
   "execution_count": 28,
   "metadata": {
    "scrolled": true
   },
   "outputs": [
    {
     "data": {
      "image/png": "[encoded data removed]",
      "text/plain": [
       "<Figure size 432x288 with 1 Axes>"
      ]
     },
     "metadata": {
      "needs_background": "light"
     },
     "output_type": "display_data"
    },
    {
     "data": {
      "image/png": "[encoded data removed]",
      "text/plain": [
       "<Figure size 432x288 with 1 Axes>"
      ]
     },
     "metadata": {
      "needs_background": "light"
     },
     "output_type": "display_data"
    },
    {
     "data": {
      "image/png": "[encoded data removed]",
      "text/plain": [
       "<Figure size 432x288 with 1 Axes>"
      ]
     },
     "metadata": {
      "needs_background": "light"
     },
     "output_type": "display_data"
    },
    {
     "data": {
      "image/png": "[encoded data removed]",
      "text/plain": [
       "<Figure size 432x288 with 1 Axes>"
      ]
     },
     "metadata": {
      "needs_background": "light"
     },
     "output_type": "display_data"
    }
   ],
   "source": [
    "e = 'price', 'registration_year', 'power', 'mileage'\n",
    "for i in e:\n",
    "    df.boxplot(i)\n",
    "    plt.show()"
   ]
  },
  {
   "cell_type": "markdown",
   "metadata": {},
   "source": [
    "Remoção de dados duplicados: "
   ]
  },
  {
   "cell_type": "code",
   "execution_count": 29,
   "metadata": {},
   "outputs": [
    {
     "data": {
      "text/plain": [
       "305"
      ]
     },
     "execution_count": 29,
     "metadata": {},
     "output_type": "execute_result"
    }
   ],
   "source": [
    "df.duplicated().sum()"
   ]
  },
  {
   "cell_type": "code",
   "execution_count": 30,
   "metadata": {},
   "outputs": [
    {
     "data": {
      "text/plain": [
       "0"
      ]
     },
     "execution_count": 30,
     "metadata": {},
     "output_type": "execute_result"
    }
   ],
   "source": [
    "df=df.drop_duplicates()\n",
    "df.reset_index(drop=True,inplace=True)\n",
    "df.duplicated().sum()"
   ]
  },
  {
   "cell_type": "markdown",
   "metadata": {},
   "source": [
    "Decidi retirar da amostra todos os veículos de ano de registro menor que 1960 pois são muito antigos e todos com ano de registro após 2017, já que todos as informações de data vão somente até 2016.  "
   ]
  },
  {
   "cell_type": "code",
   "execution_count": 31,
   "metadata": {
    "scrolled": true
   },
   "outputs": [
    {
     "data": {
      "text/plain": [
       "<AxesSubplot:>"
      ]
     },
     "execution_count": 31,
     "metadata": {},
     "output_type": "execute_result"
    },
    {
     "data": {
      "image/png": "[encoded data removed]",
      "text/plain": [
       "<Figure size 432x288 with 1 Axes>"
      ]
     },
     "metadata": {
      "needs_background": "light"
     },
     "output_type": "display_data"
    }
   ],
   "source": [
    "df = df.loc[df['registration_year']<2017]\n",
    "df = df.loc[df['registration_year']>1960]\n",
    "df['registration_year'].hist()"
   ]
  },
  {
   "cell_type": "markdown",
   "metadata": {},
   "source": [
    "Remoção de preços inferiores a 100. Dificilmente um carro custa menos de 100EUR. "
   ]
  },
  {
   "cell_type": "code",
   "execution_count": 32,
   "metadata": {
    "scrolled": true
   },
   "outputs": [
    {
     "data": {
      "text/plain": [
       "<AxesSubplot:>"
      ]
     },
     "execution_count": 32,
     "metadata": {},
     "output_type": "execute_result"
    },
    {
     "data": {
      "image/png": "[encoded data removed]",
      "text/plain": [
       "<Figure size 432x288 with 1 Axes>"
      ]
     },
     "metadata": {
      "needs_background": "light"
     },
     "output_type": "display_data"
    }
   ],
   "source": [
    "df = df.loc[df['price']>100]\n",
    "\n",
    "df['price'].hist()"
   ]
  },
  {
   "cell_type": "markdown",
   "metadata": {},
   "source": [
    "Substituição dos valores anormais de força pela média da marca do veículo. "
   ]
  },
  {
   "cell_type": "code",
   "execution_count": 33,
   "metadata": {
    "scrolled": true
   },
   "outputs": [
    {
     "data": {
      "text/plain": [
       "<AxesSubplot:>"
      ]
     },
     "execution_count": 33,
     "metadata": {},
     "output_type": "execute_result"
    },
    {
     "data": {
      "image/png": "[encoded data removed]",
      "text/plain": [
       "<Figure size 432x288 with 1 Axes>"
      ]
     },
     "metadata": {
      "needs_background": "light"
     },
     "output_type": "display_data"
    }
   ],
   "source": [
    "df['power'] = np.where((df['power'] == 0), df.groupby('brand')['power'].transform('mean').round(0), df['power'])\n",
    "df['power'] = np.where((df['power'] > 500), df.groupby('brand')['power'].transform('mean').round(0), df['power'])\n",
    "df['power'] = np.where((df['power'] < 50), df.groupby('brand')['power'].transform('mean').round(0), df['power'])\n",
    "df['power'].hist()"
   ]
  },
  {
   "cell_type": "markdown",
   "metadata": {},
   "source": [
    "Com as alterações acima, os gráficos boxplot mostraram a redução dos outliers. "
   ]
  },
  {
   "cell_type": "code",
   "execution_count": 34,
   "metadata": {
    "scrolled": true
   },
   "outputs": [
    {
     "data": {
      "image/png": "[encoded data removed]",
      "text/plain": [
       "<Figure size 432x288 with 1 Axes>"
      ]
     },
     "metadata": {
      "needs_background": "light"
     },
     "output_type": "display_data"
    },
    {
     "data": {
      "image/png": "[encoded data removed]",
      "text/plain": [
       "<Figure size 432x288 with 1 Axes>"
      ]
     },
     "metadata": {
      "needs_background": "light"
     },
     "output_type": "display_data"
    },
    {
     "data": {
      "image/png": "[encoded data removed]",
      "text/plain": [
       "<Figure size 432x288 with 1 Axes>"
      ]
     },
     "metadata": {
      "needs_background": "light"
     },
     "output_type": "display_data"
    },
    {
     "data": {
      "image/png": "[encoded data removed]",
      "text/plain": [
       "<Figure size 432x288 with 1 Axes>"
      ]
     },
     "metadata": {
      "needs_background": "light"
     },
     "output_type": "display_data"
    }
   ],
   "source": [
    "for i in e:\n",
    "    df.boxplot(i)\n",
    "    plt.show()"
   ]
  },
  {
   "cell_type": "markdown",
   "metadata": {},
   "source": [
    "Assim ficou a tabela:"
   ]
  },
  {
   "cell_type": "code",
   "execution_count": 35,
   "metadata": {
    "scrolled": true
   },
   "outputs": [
    {
     "data": {
      "text/html": [
       "<div>\n",
       "<style scoped>\n",
       "    .dataframe tbody tr th:only-of-type {\n",
       "        vertical-align: middle;\n",
       "    }\n",
       "\n",
       "    .dataframe tbody tr th {\n",
       "        vertical-align: top;\n",
       "    }\n",
       "\n",
       "    .dataframe thead th {\n",
       "        text-align: right;\n",
       "    }\n",
       "</style>\n",
       "<table border=\"1\" class=\"dataframe\">\n",
       "  <thead>\n",
       "    <tr style=\"text-align: right;\">\n",
       "      <th></th>\n",
       "      <th>date_crawled</th>\n",
       "      <th>price</th>\n",
       "      <th>vehicle_type</th>\n",
       "      <th>registration_year</th>\n",
       "      <th>gearbox</th>\n",
       "      <th>power</th>\n",
       "      <th>model</th>\n",
       "      <th>mileage</th>\n",
       "      <th>registration_month</th>\n",
       "      <th>fuel_type</th>\n",
       "      <th>brand</th>\n",
       "      <th>not_repaired</th>\n",
       "      <th>date_created</th>\n",
       "      <th>postal_code</th>\n",
       "      <th>last_seen</th>\n",
       "    </tr>\n",
       "  </thead>\n",
       "  <tbody>\n",
       "    <tr>\n",
       "      <th>0</th>\n",
       "      <td>2016-03-24 11:52:00</td>\n",
       "      <td>480</td>\n",
       "      <td>sedan</td>\n",
       "      <td>1993</td>\n",
       "      <td>manual</td>\n",
       "      <td>97.0</td>\n",
       "      <td>golf</td>\n",
       "      <td>150000</td>\n",
       "      <td>0</td>\n",
       "      <td>gasoline</td>\n",
       "      <td>volkswagen</td>\n",
       "      <td>0</td>\n",
       "      <td>2016-03-24</td>\n",
       "      <td>70435</td>\n",
       "      <td>2016-04-07 03:16:00</td>\n",
       "    </tr>\n",
       "    <tr>\n",
       "      <th>1</th>\n",
       "      <td>2016-03-24 10:58:00</td>\n",
       "      <td>18300</td>\n",
       "      <td>coupe</td>\n",
       "      <td>2011</td>\n",
       "      <td>manual</td>\n",
       "      <td>190.0</td>\n",
       "      <td>other</td>\n",
       "      <td>125000</td>\n",
       "      <td>5</td>\n",
       "      <td>gasoline</td>\n",
       "      <td>audi</td>\n",
       "      <td>1</td>\n",
       "      <td>2016-03-24</td>\n",
       "      <td>66954</td>\n",
       "      <td>2016-04-07 01:46:00</td>\n",
       "    </tr>\n",
       "    <tr>\n",
       "      <th>2</th>\n",
       "      <td>2016-03-14 12:52:00</td>\n",
       "      <td>9800</td>\n",
       "      <td>suv</td>\n",
       "      <td>2004</td>\n",
       "      <td>auto</td>\n",
       "      <td>163.0</td>\n",
       "      <td>grand</td>\n",
       "      <td>125000</td>\n",
       "      <td>8</td>\n",
       "      <td>gasoline</td>\n",
       "      <td>jeep</td>\n",
       "      <td>0</td>\n",
       "      <td>2016-03-14</td>\n",
       "      <td>90480</td>\n",
       "      <td>2016-04-05 12:47:00</td>\n",
       "    </tr>\n",
       "    <tr>\n",
       "      <th>3</th>\n",
       "      <td>2016-03-17 16:54:00</td>\n",
       "      <td>1500</td>\n",
       "      <td>small</td>\n",
       "      <td>2001</td>\n",
       "      <td>manual</td>\n",
       "      <td>75.0</td>\n",
       "      <td>golf</td>\n",
       "      <td>150000</td>\n",
       "      <td>6</td>\n",
       "      <td>gasoline</td>\n",
       "      <td>volkswagen</td>\n",
       "      <td>0</td>\n",
       "      <td>2016-03-17</td>\n",
       "      <td>91074</td>\n",
       "      <td>2016-03-17 17:40:00</td>\n",
       "    </tr>\n",
       "    <tr>\n",
       "      <th>4</th>\n",
       "      <td>2016-03-31 17:25:00</td>\n",
       "      <td>3600</td>\n",
       "      <td>small</td>\n",
       "      <td>2008</td>\n",
       "      <td>manual</td>\n",
       "      <td>69.0</td>\n",
       "      <td>fabia</td>\n",
       "      <td>90000</td>\n",
       "      <td>7</td>\n",
       "      <td>gasoline</td>\n",
       "      <td>skoda</td>\n",
       "      <td>0</td>\n",
       "      <td>2016-03-31</td>\n",
       "      <td>60437</td>\n",
       "      <td>2016-04-06 10:17:00</td>\n",
       "    </tr>\n",
       "    <tr>\n",
       "      <th>...</th>\n",
       "      <td>...</td>\n",
       "      <td>...</td>\n",
       "      <td>...</td>\n",
       "      <td>...</td>\n",
       "      <td>...</td>\n",
       "      <td>...</td>\n",
       "      <td>...</td>\n",
       "      <td>...</td>\n",
       "      <td>...</td>\n",
       "      <td>...</td>\n",
       "      <td>...</td>\n",
       "      <td>...</td>\n",
       "      <td>...</td>\n",
       "      <td>...</td>\n",
       "      <td>...</td>\n",
       "    </tr>\n",
       "    <tr>\n",
       "      <th>354058</th>\n",
       "      <td>2016-03-27 20:36:00</td>\n",
       "      <td>1150</td>\n",
       "      <td>bus</td>\n",
       "      <td>2000</td>\n",
       "      <td>manual</td>\n",
       "      <td>94.0</td>\n",
       "      <td>zafira</td>\n",
       "      <td>150000</td>\n",
       "      <td>3</td>\n",
       "      <td>gasoline</td>\n",
       "      <td>opel</td>\n",
       "      <td>0</td>\n",
       "      <td>2016-03-27</td>\n",
       "      <td>26624</td>\n",
       "      <td>2016-03-29 10:17:00</td>\n",
       "    </tr>\n",
       "    <tr>\n",
       "      <th>354060</th>\n",
       "      <td>2016-03-14 17:48:00</td>\n",
       "      <td>2200</td>\n",
       "      <td>sedan</td>\n",
       "      <td>2005</td>\n",
       "      <td>manual</td>\n",
       "      <td>115.0</td>\n",
       "      <td>other</td>\n",
       "      <td>20000</td>\n",
       "      <td>1</td>\n",
       "      <td>gasoline</td>\n",
       "      <td>sonstige_autos</td>\n",
       "      <td>0</td>\n",
       "      <td>2016-03-14</td>\n",
       "      <td>39576</td>\n",
       "      <td>2016-04-06 00:46:00</td>\n",
       "    </tr>\n",
       "    <tr>\n",
       "      <th>354061</th>\n",
       "      <td>2016-03-05 19:56:00</td>\n",
       "      <td>1199</td>\n",
       "      <td>convertible</td>\n",
       "      <td>2000</td>\n",
       "      <td>auto</td>\n",
       "      <td>101.0</td>\n",
       "      <td>fortwo</td>\n",
       "      <td>125000</td>\n",
       "      <td>3</td>\n",
       "      <td>gasoline</td>\n",
       "      <td>smart</td>\n",
       "      <td>0</td>\n",
       "      <td>2016-03-05</td>\n",
       "      <td>26135</td>\n",
       "      <td>2016-03-11 18:17:00</td>\n",
       "    </tr>\n",
       "    <tr>\n",
       "      <th>354062</th>\n",
       "      <td>2016-03-19 18:57:00</td>\n",
       "      <td>9200</td>\n",
       "      <td>bus</td>\n",
       "      <td>1996</td>\n",
       "      <td>manual</td>\n",
       "      <td>102.0</td>\n",
       "      <td>transporter</td>\n",
       "      <td>150000</td>\n",
       "      <td>3</td>\n",
       "      <td>gasoline</td>\n",
       "      <td>volkswagen</td>\n",
       "      <td>0</td>\n",
       "      <td>2016-03-19</td>\n",
       "      <td>87439</td>\n",
       "      <td>2016-04-07 07:15:00</td>\n",
       "    </tr>\n",
       "    <tr>\n",
       "      <th>354063</th>\n",
       "      <td>2016-03-20 19:41:00</td>\n",
       "      <td>3400</td>\n",
       "      <td>wagon</td>\n",
       "      <td>2002</td>\n",
       "      <td>manual</td>\n",
       "      <td>100.0</td>\n",
       "      <td>golf</td>\n",
       "      <td>150000</td>\n",
       "      <td>6</td>\n",
       "      <td>gasoline</td>\n",
       "      <td>volkswagen</td>\n",
       "      <td>0</td>\n",
       "      <td>2016-03-20</td>\n",
       "      <td>40764</td>\n",
       "      <td>2016-03-24 12:45:00</td>\n",
       "    </tr>\n",
       "  </tbody>\n",
       "</table>\n",
       "<p>325635 rows × 15 columns</p>\n",
       "</div>"
      ],
      "text/plain": [
       "              date_crawled  price vehicle_type  registration_year gearbox  \\\n",
       "0      2016-03-24 11:52:00    480        sedan               1993  manual   \n",
       "1      2016-03-24 10:58:00  18300        coupe               2011  manual   \n",
       "2      2016-03-14 12:52:00   9800          suv               2004    auto   \n",
       "3      2016-03-17 16:54:00   1500        small               2001  manual   \n",
       "4      2016-03-31 17:25:00   3600        small               2008  manual   \n",
       "...                    ...    ...          ...                ...     ...   \n",
       "354058 2016-03-27 20:36:00   1150          bus               2000  manual   \n",
       "354060 2016-03-14 17:48:00   2200        sedan               2005  manual   \n",
       "354061 2016-03-05 19:56:00   1199  convertible               2000    auto   \n",
       "354062 2016-03-19 18:57:00   9200          bus               1996  manual   \n",
       "354063 2016-03-20 19:41:00   3400        wagon               2002  manual   \n",
       "\n",
       "        power        model  mileage  registration_month fuel_type  \\\n",
       "0        97.0         golf   150000                   0  gasoline   \n",
       "1       190.0        other   125000                   5  gasoline   \n",
       "2       163.0        grand   125000                   8  gasoline   \n",
       "3        75.0         golf   150000                   6  gasoline   \n",
       "4        69.0        fabia    90000                   7  gasoline   \n",
       "...       ...          ...      ...                 ...       ...   \n",
       "354058   94.0       zafira   150000                   3  gasoline   \n",
       "354060  115.0        other    20000                   1  gasoline   \n",
       "354061  101.0       fortwo   125000                   3  gasoline   \n",
       "354062  102.0  transporter   150000                   3  gasoline   \n",
       "354063  100.0         golf   150000                   6  gasoline   \n",
       "\n",
       "                 brand  not_repaired date_created  postal_code  \\\n",
       "0           volkswagen             0   2016-03-24        70435   \n",
       "1                 audi             1   2016-03-24        66954   \n",
       "2                 jeep             0   2016-03-14        90480   \n",
       "3           volkswagen             0   2016-03-17        91074   \n",
       "4                skoda             0   2016-03-31        60437   \n",
       "...                ...           ...          ...          ...   \n",
       "354058            opel             0   2016-03-27        26624   \n",
       "354060  sonstige_autos             0   2016-03-14        39576   \n",
       "354061           smart             0   2016-03-05        26135   \n",
       "354062      volkswagen             0   2016-03-19        87439   \n",
       "354063      volkswagen             0   2016-03-20        40764   \n",
       "\n",
       "                 last_seen  \n",
       "0      2016-04-07 03:16:00  \n",
       "1      2016-04-07 01:46:00  \n",
       "2      2016-04-05 12:47:00  \n",
       "3      2016-03-17 17:40:00  \n",
       "4      2016-04-06 10:17:00  \n",
       "...                    ...  \n",
       "354058 2016-03-29 10:17:00  \n",
       "354060 2016-04-06 00:46:00  \n",
       "354061 2016-03-11 18:17:00  \n",
       "354062 2016-04-07 07:15:00  \n",
       "354063 2016-03-24 12:45:00  \n",
       "\n",
       "[325635 rows x 15 columns]"
      ]
     },
     "execution_count": 35,
     "metadata": {},
     "output_type": "execute_result"
    }
   ],
   "source": [
    "df"
   ]
  },
  {
   "cell_type": "code",
   "execution_count": 36,
   "metadata": {},
   "outputs": [
    {
     "name": "stdout",
     "output_type": "stream",
     "text": [
      "<class 'pandas.core.frame.DataFrame'>\n",
      "Int64Index: 325635 entries, 0 to 354063\n",
      "Data columns (total 15 columns):\n",
      " #   Column              Non-Null Count   Dtype         \n",
      "---  ------              --------------   -----         \n",
      " 0   date_crawled        325635 non-null  datetime64[ns]\n",
      " 1   price               325635 non-null  int64         \n",
      " 2   vehicle_type        325635 non-null  object        \n",
      " 3   registration_year   325635 non-null  int64         \n",
      " 4   gearbox             325635 non-null  object        \n",
      " 5   power               325635 non-null  float64       \n",
      " 6   model               325635 non-null  object        \n",
      " 7   mileage             325635 non-null  int64         \n",
      " 8   registration_month  325635 non-null  int64         \n",
      " 9   fuel_type           325635 non-null  object        \n",
      " 10  brand               325635 non-null  object        \n",
      " 11  not_repaired        325635 non-null  int64         \n",
      " 12  date_created        325635 non-null  datetime64[ns]\n",
      " 13  postal_code         325635 non-null  int64         \n",
      " 14  last_seen           325635 non-null  datetime64[ns]\n",
      "dtypes: datetime64[ns](3), float64(1), int64(6), object(5)\n",
      "memory usage: 39.8+ MB\n"
     ]
    }
   ],
   "source": [
    "df.info()"
   ]
  },
  {
   "cell_type": "code",
   "execution_count": 37,
   "metadata": {},
   "outputs": [
    {
     "data": {
      "text/html": [
       "<div>\n",
       "<style scoped>\n",
       "    .dataframe tbody tr th:only-of-type {\n",
       "        vertical-align: middle;\n",
       "    }\n",
       "\n",
       "    .dataframe tbody tr th {\n",
       "        vertical-align: top;\n",
       "    }\n",
       "\n",
       "    .dataframe thead th {\n",
       "        text-align: right;\n",
       "    }\n",
       "</style>\n",
       "<table border=\"1\" class=\"dataframe\">\n",
       "  <thead>\n",
       "    <tr style=\"text-align: right;\">\n",
       "      <th></th>\n",
       "      <th>price</th>\n",
       "      <th>registration_year</th>\n",
       "      <th>power</th>\n",
       "      <th>mileage</th>\n",
       "      <th>registration_month</th>\n",
       "      <th>not_repaired</th>\n",
       "      <th>postal_code</th>\n",
       "    </tr>\n",
       "  </thead>\n",
       "  <tbody>\n",
       "    <tr>\n",
       "      <th>count</th>\n",
       "      <td>325635.000000</td>\n",
       "      <td>325635.000000</td>\n",
       "      <td>325635.000000</td>\n",
       "      <td>325635.000000</td>\n",
       "      <td>325635.000000</td>\n",
       "      <td>325635.000000</td>\n",
       "      <td>325635.000000</td>\n",
       "    </tr>\n",
       "    <tr>\n",
       "      <th>mean</th>\n",
       "      <td>4651.856791</td>\n",
       "      <td>2002.699157</td>\n",
       "      <td>120.313421</td>\n",
       "      <td>128430.896556</td>\n",
       "      <td>5.849967</td>\n",
       "      <td>0.098174</td>\n",
       "      <td>50797.010589</td>\n",
       "    </tr>\n",
       "    <tr>\n",
       "      <th>std</th>\n",
       "      <td>4543.243452</td>\n",
       "      <td>6.597432</td>\n",
       "      <td>50.977926</td>\n",
       "      <td>37145.049128</td>\n",
       "      <td>3.666604</td>\n",
       "      <td>0.297551</td>\n",
       "      <td>25741.297694</td>\n",
       "    </tr>\n",
       "    <tr>\n",
       "      <th>min</th>\n",
       "      <td>101.000000</td>\n",
       "      <td>1961.000000</td>\n",
       "      <td>24.000000</td>\n",
       "      <td>5000.000000</td>\n",
       "      <td>0.000000</td>\n",
       "      <td>0.000000</td>\n",
       "      <td>1067.000000</td>\n",
       "    </tr>\n",
       "    <tr>\n",
       "      <th>25%</th>\n",
       "      <td>1249.000000</td>\n",
       "      <td>1999.000000</td>\n",
       "      <td>82.000000</td>\n",
       "      <td>125000.000000</td>\n",
       "      <td>3.000000</td>\n",
       "      <td>0.000000</td>\n",
       "      <td>30459.000000</td>\n",
       "    </tr>\n",
       "    <tr>\n",
       "      <th>50%</th>\n",
       "      <td>2950.000000</td>\n",
       "      <td>2003.000000</td>\n",
       "      <td>109.000000</td>\n",
       "      <td>150000.000000</td>\n",
       "      <td>6.000000</td>\n",
       "      <td>0.000000</td>\n",
       "      <td>49635.000000</td>\n",
       "    </tr>\n",
       "    <tr>\n",
       "      <th>75%</th>\n",
       "      <td>6700.000000</td>\n",
       "      <td>2007.000000</td>\n",
       "      <td>147.000000</td>\n",
       "      <td>150000.000000</td>\n",
       "      <td>9.000000</td>\n",
       "      <td>0.000000</td>\n",
       "      <td>71334.000000</td>\n",
       "    </tr>\n",
       "    <tr>\n",
       "      <th>max</th>\n",
       "      <td>20000.000000</td>\n",
       "      <td>2016.000000</td>\n",
       "      <td>500.000000</td>\n",
       "      <td>150000.000000</td>\n",
       "      <td>12.000000</td>\n",
       "      <td>1.000000</td>\n",
       "      <td>99998.000000</td>\n",
       "    </tr>\n",
       "  </tbody>\n",
       "</table>\n",
       "</div>"
      ],
      "text/plain": [
       "               price  registration_year          power        mileage  \\\n",
       "count  325635.000000      325635.000000  325635.000000  325635.000000   \n",
       "mean     4651.856791        2002.699157     120.313421  128430.896556   \n",
       "std      4543.243452           6.597432      50.977926   37145.049128   \n",
       "min       101.000000        1961.000000      24.000000    5000.000000   \n",
       "25%      1249.000000        1999.000000      82.000000  125000.000000   \n",
       "50%      2950.000000        2003.000000     109.000000  150000.000000   \n",
       "75%      6700.000000        2007.000000     147.000000  150000.000000   \n",
       "max     20000.000000        2016.000000     500.000000  150000.000000   \n",
       "\n",
       "       registration_month   not_repaired    postal_code  \n",
       "count       325635.000000  325635.000000  325635.000000  \n",
       "mean             5.849967       0.098174   50797.010589  \n",
       "std              3.666604       0.297551   25741.297694  \n",
       "min              0.000000       0.000000    1067.000000  \n",
       "25%              3.000000       0.000000   30459.000000  \n",
       "50%              6.000000       0.000000   49635.000000  \n",
       "75%              9.000000       0.000000   71334.000000  \n",
       "max             12.000000       1.000000   99998.000000  "
      ]
     },
     "execution_count": 37,
     "metadata": {},
     "output_type": "execute_result"
    }
   ],
   "source": [
    "df.describe()"
   ]
  },
  {
   "cell_type": "markdown",
   "metadata": {},
   "source": [
    "Reparei que aumentou a correlação positiva do preço a força do motor (50% agora) e ano de registro (46% agora). Também cresceu a correlação negativa com a quilometragem do veículo (36% agora). "
   ]
  },
  {
   "cell_type": "code",
   "execution_count": 38,
   "metadata": {
    "scrolled": false
   },
   "outputs": [
    {
     "data": {
      "text/html": [
       "<div>\n",
       "<style scoped>\n",
       "    .dataframe tbody tr th:only-of-type {\n",
       "        vertical-align: middle;\n",
       "    }\n",
       "\n",
       "    .dataframe tbody tr th {\n",
       "        vertical-align: top;\n",
       "    }\n",
       "\n",
       "    .dataframe thead th {\n",
       "        text-align: right;\n",
       "    }\n",
       "</style>\n",
       "<table border=\"1\" class=\"dataframe\">\n",
       "  <thead>\n",
       "    <tr style=\"text-align: right;\">\n",
       "      <th></th>\n",
       "      <th>price</th>\n",
       "      <th>registration_year</th>\n",
       "      <th>power</th>\n",
       "      <th>mileage</th>\n",
       "      <th>registration_month</th>\n",
       "      <th>not_repaired</th>\n",
       "      <th>postal_code</th>\n",
       "    </tr>\n",
       "  </thead>\n",
       "  <tbody>\n",
       "    <tr>\n",
       "      <th>price</th>\n",
       "      <td>1.000000</td>\n",
       "      <td>0.463685</td>\n",
       "      <td>0.501951</td>\n",
       "      <td>-0.364837</td>\n",
       "      <td>0.087829</td>\n",
       "      <td>-0.186031</td>\n",
       "      <td>0.071508</td>\n",
       "    </tr>\n",
       "    <tr>\n",
       "      <th>registration_year</th>\n",
       "      <td>0.463685</td>\n",
       "      <td>1.000000</td>\n",
       "      <td>0.108690</td>\n",
       "      <td>-0.253416</td>\n",
       "      <td>0.060589</td>\n",
       "      <td>-0.083171</td>\n",
       "      <td>0.032141</td>\n",
       "    </tr>\n",
       "    <tr>\n",
       "      <th>power</th>\n",
       "      <td>0.501951</td>\n",
       "      <td>0.108690</td>\n",
       "      <td>1.000000</td>\n",
       "      <td>0.099015</td>\n",
       "      <td>0.047865</td>\n",
       "      <td>-0.041251</td>\n",
       "      <td>0.057343</td>\n",
       "    </tr>\n",
       "    <tr>\n",
       "      <th>mileage</th>\n",
       "      <td>-0.364837</td>\n",
       "      <td>-0.253416</td>\n",
       "      <td>0.099015</td>\n",
       "      <td>1.000000</td>\n",
       "      <td>-0.005572</td>\n",
       "      <td>0.071138</td>\n",
       "      <td>-0.010135</td>\n",
       "    </tr>\n",
       "    <tr>\n",
       "      <th>registration_month</th>\n",
       "      <td>0.087829</td>\n",
       "      <td>0.060589</td>\n",
       "      <td>0.047865</td>\n",
       "      <td>-0.005572</td>\n",
       "      <td>1.000000</td>\n",
       "      <td>-0.035505</td>\n",
       "      <td>0.008402</td>\n",
       "    </tr>\n",
       "    <tr>\n",
       "      <th>not_repaired</th>\n",
       "      <td>-0.186031</td>\n",
       "      <td>-0.083171</td>\n",
       "      <td>-0.041251</td>\n",
       "      <td>0.071138</td>\n",
       "      <td>-0.035505</td>\n",
       "      <td>1.000000</td>\n",
       "      <td>-0.000113</td>\n",
       "    </tr>\n",
       "    <tr>\n",
       "      <th>postal_code</th>\n",
       "      <td>0.071508</td>\n",
       "      <td>0.032141</td>\n",
       "      <td>0.057343</td>\n",
       "      <td>-0.010135</td>\n",
       "      <td>0.008402</td>\n",
       "      <td>-0.000113</td>\n",
       "      <td>1.000000</td>\n",
       "    </tr>\n",
       "  </tbody>\n",
       "</table>\n",
       "</div>"
      ],
      "text/plain": [
       "                       price  registration_year     power   mileage  \\\n",
       "price               1.000000           0.463685  0.501951 -0.364837   \n",
       "registration_year   0.463685           1.000000  0.108690 -0.253416   \n",
       "power               0.501951           0.108690  1.000000  0.099015   \n",
       "mileage            -0.364837          -0.253416  0.099015  1.000000   \n",
       "registration_month  0.087829           0.060589  0.047865 -0.005572   \n",
       "not_repaired       -0.186031          -0.083171 -0.041251  0.071138   \n",
       "postal_code         0.071508           0.032141  0.057343 -0.010135   \n",
       "\n",
       "                    registration_month  not_repaired  postal_code  \n",
       "price                         0.087829     -0.186031     0.071508  \n",
       "registration_year             0.060589     -0.083171     0.032141  \n",
       "power                         0.047865     -0.041251     0.057343  \n",
       "mileage                      -0.005572      0.071138    -0.010135  \n",
       "registration_month            1.000000     -0.035505     0.008402  \n",
       "not_repaired                 -0.035505      1.000000    -0.000113  \n",
       "postal_code                   0.008402     -0.000113     1.000000  "
      ]
     },
     "execution_count": 38,
     "metadata": {},
     "output_type": "execute_result"
    }
   ],
   "source": [
    "df.corr()"
   ]
  },
  {
   "cell_type": "markdown",
   "metadata": {},
   "source": [
    "## Treinamento do modelo"
   ]
  },
  {
   "cell_type": "markdown",
   "metadata": {},
   "source": [
    "Primeiro passo para treinar o modelo foi codificar por rótulos as variáveis categóricas. Decidi classificar por ordem de média de preço de cada variável. Assim, um modelo de carro com média de preço superior ao outro terá um valor maior. Achei que isso ajudaria na formação do modelo de regressão.  "
   ]
  },
  {
   "cell_type": "code",
   "execution_count": 39,
   "metadata": {},
   "outputs": [],
   "source": [
    "a = np.argsort(df.groupby('vehicle_type').mean()['price'].sort_values())\n",
    "b = np.argsort(df.groupby('gearbox').mean()['price'].sort_values())\n",
    "c = np.argsort(df.groupby('model').mean()['price'].sort_values())\n",
    "d = np.argsort(df.groupby('fuel_type').mean()['price'].sort_values())\n",
    "e = np.argsort(df.groupby('brand').mean()['price'].sort_values())"
   ]
  },
  {
   "cell_type": "code",
   "execution_count": 40,
   "metadata": {},
   "outputs": [
    {
     "data": {
      "text/html": [
       "<div>\n",
       "<style scoped>\n",
       "    .dataframe tbody tr th:only-of-type {\n",
       "        vertical-align: middle;\n",
       "    }\n",
       "\n",
       "    .dataframe tbody tr th {\n",
       "        vertical-align: top;\n",
       "    }\n",
       "\n",
       "    .dataframe thead th {\n",
       "        text-align: right;\n",
       "    }\n",
       "</style>\n",
       "<table border=\"1\" class=\"dataframe\">\n",
       "  <thead>\n",
       "    <tr style=\"text-align: right;\">\n",
       "      <th></th>\n",
       "      <th>date_crawled</th>\n",
       "      <th>price_x</th>\n",
       "      <th>vehicle_type</th>\n",
       "      <th>registration_year</th>\n",
       "      <th>gearbox</th>\n",
       "      <th>power</th>\n",
       "      <th>model</th>\n",
       "      <th>mileage</th>\n",
       "      <th>registration_month</th>\n",
       "      <th>fuel_type</th>\n",
       "      <th>brand</th>\n",
       "      <th>not_repaired</th>\n",
       "      <th>date_created</th>\n",
       "      <th>postal_code</th>\n",
       "      <th>last_seen</th>\n",
       "      <th>price_y</th>\n",
       "      <th>price_x</th>\n",
       "      <th>price_y</th>\n",
       "      <th>price_x</th>\n",
       "      <th>price_y</th>\n",
       "    </tr>\n",
       "  </thead>\n",
       "  <tbody>\n",
       "    <tr>\n",
       "      <th>0</th>\n",
       "      <td>2016-03-24 11:52:00</td>\n",
       "      <td>480</td>\n",
       "      <td>sedan</td>\n",
       "      <td>1993</td>\n",
       "      <td>manual</td>\n",
       "      <td>97.0</td>\n",
       "      <td>golf</td>\n",
       "      <td>150000</td>\n",
       "      <td>0</td>\n",
       "      <td>gasoline</td>\n",
       "      <td>volkswagen</td>\n",
       "      <td>0</td>\n",
       "      <td>2016-03-24</td>\n",
       "      <td>70435</td>\n",
       "      <td>2016-04-07 03:16:00</td>\n",
       "      <td>2</td>\n",
       "      <td>0</td>\n",
       "      <td>110</td>\n",
       "      <td>3</td>\n",
       "      <td>24</td>\n",
       "    </tr>\n",
       "    <tr>\n",
       "      <th>1</th>\n",
       "      <td>2016-03-24 10:58:00</td>\n",
       "      <td>18300</td>\n",
       "      <td>coupe</td>\n",
       "      <td>2011</td>\n",
       "      <td>manual</td>\n",
       "      <td>190.0</td>\n",
       "      <td>other</td>\n",
       "      <td>125000</td>\n",
       "      <td>5</td>\n",
       "      <td>gasoline</td>\n",
       "      <td>audi</td>\n",
       "      <td>1</td>\n",
       "      <td>2016-03-24</td>\n",
       "      <td>66954</td>\n",
       "      <td>2016-04-07 01:46:00</td>\n",
       "      <td>5</td>\n",
       "      <td>0</td>\n",
       "      <td>107</td>\n",
       "      <td>3</td>\n",
       "      <td>34</td>\n",
       "    </tr>\n",
       "    <tr>\n",
       "      <th>2</th>\n",
       "      <td>2016-03-14 12:52:00</td>\n",
       "      <td>9800</td>\n",
       "      <td>suv</td>\n",
       "      <td>2004</td>\n",
       "      <td>auto</td>\n",
       "      <td>163.0</td>\n",
       "      <td>grand</td>\n",
       "      <td>125000</td>\n",
       "      <td>8</td>\n",
       "      <td>gasoline</td>\n",
       "      <td>jeep</td>\n",
       "      <td>0</td>\n",
       "      <td>2016-03-14</td>\n",
       "      <td>90480</td>\n",
       "      <td>2016-04-05 12:47:00</td>\n",
       "      <td>7</td>\n",
       "      <td>1</td>\n",
       "      <td>154</td>\n",
       "      <td>3</td>\n",
       "      <td>36</td>\n",
       "    </tr>\n",
       "    <tr>\n",
       "      <th>3</th>\n",
       "      <td>2016-03-17 16:54:00</td>\n",
       "      <td>1500</td>\n",
       "      <td>small</td>\n",
       "      <td>2001</td>\n",
       "      <td>manual</td>\n",
       "      <td>75.0</td>\n",
       "      <td>golf</td>\n",
       "      <td>150000</td>\n",
       "      <td>6</td>\n",
       "      <td>gasoline</td>\n",
       "      <td>volkswagen</td>\n",
       "      <td>0</td>\n",
       "      <td>2016-03-17</td>\n",
       "      <td>91074</td>\n",
       "      <td>2016-03-17 17:40:00</td>\n",
       "      <td>0</td>\n",
       "      <td>0</td>\n",
       "      <td>110</td>\n",
       "      <td>3</td>\n",
       "      <td>24</td>\n",
       "    </tr>\n",
       "    <tr>\n",
       "      <th>4</th>\n",
       "      <td>2016-03-31 17:25:00</td>\n",
       "      <td>3600</td>\n",
       "      <td>small</td>\n",
       "      <td>2008</td>\n",
       "      <td>manual</td>\n",
       "      <td>69.0</td>\n",
       "      <td>fabia</td>\n",
       "      <td>90000</td>\n",
       "      <td>7</td>\n",
       "      <td>gasoline</td>\n",
       "      <td>skoda</td>\n",
       "      <td>0</td>\n",
       "      <td>2016-03-31</td>\n",
       "      <td>60437</td>\n",
       "      <td>2016-04-06 10:17:00</td>\n",
       "      <td>0</td>\n",
       "      <td>0</td>\n",
       "      <td>108</td>\n",
       "      <td>3</td>\n",
       "      <td>30</td>\n",
       "    </tr>\n",
       "    <tr>\n",
       "      <th>...</th>\n",
       "      <td>...</td>\n",
       "      <td>...</td>\n",
       "      <td>...</td>\n",
       "      <td>...</td>\n",
       "      <td>...</td>\n",
       "      <td>...</td>\n",
       "      <td>...</td>\n",
       "      <td>...</td>\n",
       "      <td>...</td>\n",
       "      <td>...</td>\n",
       "      <td>...</td>\n",
       "      <td>...</td>\n",
       "      <td>...</td>\n",
       "      <td>...</td>\n",
       "      <td>...</td>\n",
       "      <td>...</td>\n",
       "      <td>...</td>\n",
       "      <td>...</td>\n",
       "      <td>...</td>\n",
       "      <td>...</td>\n",
       "    </tr>\n",
       "    <tr>\n",
       "      <th>325630</th>\n",
       "      <td>2016-03-27 20:36:00</td>\n",
       "      <td>1150</td>\n",
       "      <td>bus</td>\n",
       "      <td>2000</td>\n",
       "      <td>manual</td>\n",
       "      <td>94.0</td>\n",
       "      <td>zafira</td>\n",
       "      <td>150000</td>\n",
       "      <td>3</td>\n",
       "      <td>gasoline</td>\n",
       "      <td>opel</td>\n",
       "      <td>0</td>\n",
       "      <td>2016-03-27</td>\n",
       "      <td>26624</td>\n",
       "      <td>2016-03-29 10:17:00</td>\n",
       "      <td>4</td>\n",
       "      <td>0</td>\n",
       "      <td>95</td>\n",
       "      <td>3</td>\n",
       "      <td>7</td>\n",
       "    </tr>\n",
       "    <tr>\n",
       "      <th>325631</th>\n",
       "      <td>2016-03-14 17:48:00</td>\n",
       "      <td>2200</td>\n",
       "      <td>sedan</td>\n",
       "      <td>2005</td>\n",
       "      <td>manual</td>\n",
       "      <td>115.0</td>\n",
       "      <td>other</td>\n",
       "      <td>20000</td>\n",
       "      <td>1</td>\n",
       "      <td>gasoline</td>\n",
       "      <td>sonstige_autos</td>\n",
       "      <td>0</td>\n",
       "      <td>2016-03-14</td>\n",
       "      <td>39576</td>\n",
       "      <td>2016-04-06 00:46:00</td>\n",
       "      <td>2</td>\n",
       "      <td>0</td>\n",
       "      <td>107</td>\n",
       "      <td>3</td>\n",
       "      <td>32</td>\n",
       "    </tr>\n",
       "    <tr>\n",
       "      <th>325632</th>\n",
       "      <td>2016-03-05 19:56:00</td>\n",
       "      <td>1199</td>\n",
       "      <td>convertible</td>\n",
       "      <td>2000</td>\n",
       "      <td>auto</td>\n",
       "      <td>101.0</td>\n",
       "      <td>fortwo</td>\n",
       "      <td>125000</td>\n",
       "      <td>3</td>\n",
       "      <td>gasoline</td>\n",
       "      <td>smart</td>\n",
       "      <td>0</td>\n",
       "      <td>2016-03-05</td>\n",
       "      <td>26135</td>\n",
       "      <td>2016-03-11 18:17:00</td>\n",
       "      <td>6</td>\n",
       "      <td>1</td>\n",
       "      <td>90</td>\n",
       "      <td>3</td>\n",
       "      <td>12</td>\n",
       "    </tr>\n",
       "    <tr>\n",
       "      <th>325633</th>\n",
       "      <td>2016-03-19 18:57:00</td>\n",
       "      <td>9200</td>\n",
       "      <td>bus</td>\n",
       "      <td>1996</td>\n",
       "      <td>manual</td>\n",
       "      <td>102.0</td>\n",
       "      <td>transporter</td>\n",
       "      <td>150000</td>\n",
       "      <td>3</td>\n",
       "      <td>gasoline</td>\n",
       "      <td>volkswagen</td>\n",
       "      <td>0</td>\n",
       "      <td>2016-03-19</td>\n",
       "      <td>87439</td>\n",
       "      <td>2016-04-07 07:15:00</td>\n",
       "      <td>4</td>\n",
       "      <td>0</td>\n",
       "      <td>169</td>\n",
       "      <td>3</td>\n",
       "      <td>24</td>\n",
       "    </tr>\n",
       "    <tr>\n",
       "      <th>325634</th>\n",
       "      <td>2016-03-20 19:41:00</td>\n",
       "      <td>3400</td>\n",
       "      <td>wagon</td>\n",
       "      <td>2002</td>\n",
       "      <td>manual</td>\n",
       "      <td>100.0</td>\n",
       "      <td>golf</td>\n",
       "      <td>150000</td>\n",
       "      <td>6</td>\n",
       "      <td>gasoline</td>\n",
       "      <td>volkswagen</td>\n",
       "      <td>0</td>\n",
       "      <td>2016-03-20</td>\n",
       "      <td>40764</td>\n",
       "      <td>2016-03-24 12:45:00</td>\n",
       "      <td>3</td>\n",
       "      <td>0</td>\n",
       "      <td>110</td>\n",
       "      <td>3</td>\n",
       "      <td>24</td>\n",
       "    </tr>\n",
       "  </tbody>\n",
       "</table>\n",
       "<p>325635 rows × 20 columns</p>\n",
       "</div>"
      ],
      "text/plain": [
       "              date_crawled  price_x vehicle_type  registration_year gearbox  \\\n",
       "0      2016-03-24 11:52:00      480        sedan               1993  manual   \n",
       "1      2016-03-24 10:58:00    18300        coupe               2011  manual   \n",
       "2      2016-03-14 12:52:00     9800          suv               2004    auto   \n",
       "3      2016-03-17 16:54:00     1500        small               2001  manual   \n",
       "4      2016-03-31 17:25:00     3600        small               2008  manual   \n",
       "...                    ...      ...          ...                ...     ...   \n",
       "325630 2016-03-27 20:36:00     1150          bus               2000  manual   \n",
       "325631 2016-03-14 17:48:00     2200        sedan               2005  manual   \n",
       "325632 2016-03-05 19:56:00     1199  convertible               2000    auto   \n",
       "325633 2016-03-19 18:57:00     9200          bus               1996  manual   \n",
       "325634 2016-03-20 19:41:00     3400        wagon               2002  manual   \n",
       "\n",
       "        power        model  mileage  registration_month fuel_type  \\\n",
       "0        97.0         golf   150000                   0  gasoline   \n",
       "1       190.0        other   125000                   5  gasoline   \n",
       "2       163.0        grand   125000                   8  gasoline   \n",
       "3        75.0         golf   150000                   6  gasoline   \n",
       "4        69.0        fabia    90000                   7  gasoline   \n",
       "...       ...          ...      ...                 ...       ...   \n",
       "325630   94.0       zafira   150000                   3  gasoline   \n",
       "325631  115.0        other    20000                   1  gasoline   \n",
       "325632  101.0       fortwo   125000                   3  gasoline   \n",
       "325633  102.0  transporter   150000                   3  gasoline   \n",
       "325634  100.0         golf   150000                   6  gasoline   \n",
       "\n",
       "                 brand  not_repaired date_created  postal_code  \\\n",
       "0           volkswagen             0   2016-03-24        70435   \n",
       "1                 audi             1   2016-03-24        66954   \n",
       "2                 jeep             0   2016-03-14        90480   \n",
       "3           volkswagen             0   2016-03-17        91074   \n",
       "4                skoda             0   2016-03-31        60437   \n",
       "...                ...           ...          ...          ...   \n",
       "325630            opel             0   2016-03-27        26624   \n",
       "325631  sonstige_autos             0   2016-03-14        39576   \n",
       "325632           smart             0   2016-03-05        26135   \n",
       "325633      volkswagen             0   2016-03-19        87439   \n",
       "325634      volkswagen             0   2016-03-20        40764   \n",
       "\n",
       "                 last_seen  price_y  price_x  price_y  price_x  price_y  \n",
       "0      2016-04-07 03:16:00        2        0      110        3       24  \n",
       "1      2016-04-07 01:46:00        5        0      107        3       34  \n",
       "2      2016-04-05 12:47:00        7        1      154        3       36  \n",
       "3      2016-03-17 17:40:00        0        0      110        3       24  \n",
       "4      2016-04-06 10:17:00        0        0      108        3       30  \n",
       "...                    ...      ...      ...      ...      ...      ...  \n",
       "325630 2016-03-29 10:17:00        4        0       95        3        7  \n",
       "325631 2016-04-06 00:46:00        2        0      107        3       32  \n",
       "325632 2016-03-11 18:17:00        6        1       90        3       12  \n",
       "325633 2016-04-07 07:15:00        4        0      169        3       24  \n",
       "325634 2016-03-24 12:45:00        3        0      110        3       24  \n",
       "\n",
       "[325635 rows x 20 columns]"
      ]
     },
     "execution_count": 40,
     "metadata": {},
     "output_type": "execute_result"
    }
   ],
   "source": [
    "merge_df= df.merge(a,on='vehicle_type',how='left')\n",
    "merge_df2 = merge_df.merge(b,on='gearbox',how='left')\n",
    "merge_df3 = merge_df2.merge(c,on='model',how='left')\n",
    "merge_df4 = merge_df3.merge(d,on='fuel_type',how='left')\n",
    "merge_df5 = merge_df4.merge(e,on='brand',how='left')\n",
    "df_ord = merge_df5\n",
    "df_ord\n"
   ]
  },
  {
   "cell_type": "code",
   "execution_count": 41,
   "metadata": {},
   "outputs": [
    {
     "data": {
      "text/html": [
       "<div>\n",
       "<style scoped>\n",
       "    .dataframe tbody tr th:only-of-type {\n",
       "        vertical-align: middle;\n",
       "    }\n",
       "\n",
       "    .dataframe tbody tr th {\n",
       "        vertical-align: top;\n",
       "    }\n",
       "\n",
       "    .dataframe thead th {\n",
       "        text-align: right;\n",
       "    }\n",
       "</style>\n",
       "<table border=\"1\" class=\"dataframe\">\n",
       "  <thead>\n",
       "    <tr style=\"text-align: right;\">\n",
       "      <th></th>\n",
       "      <th>price_x</th>\n",
       "      <th>registration_year</th>\n",
       "      <th>power</th>\n",
       "      <th>mileage</th>\n",
       "      <th>not_repaired</th>\n",
       "      <th>price_y</th>\n",
       "      <th>price_x</th>\n",
       "      <th>price_y</th>\n",
       "      <th>price_x</th>\n",
       "      <th>price_y</th>\n",
       "    </tr>\n",
       "  </thead>\n",
       "  <tbody>\n",
       "    <tr>\n",
       "      <th>0</th>\n",
       "      <td>480</td>\n",
       "      <td>1993</td>\n",
       "      <td>97.0</td>\n",
       "      <td>150000</td>\n",
       "      <td>0</td>\n",
       "      <td>2</td>\n",
       "      <td>0</td>\n",
       "      <td>110</td>\n",
       "      <td>3</td>\n",
       "      <td>24</td>\n",
       "    </tr>\n",
       "    <tr>\n",
       "      <th>1</th>\n",
       "      <td>18300</td>\n",
       "      <td>2011</td>\n",
       "      <td>190.0</td>\n",
       "      <td>125000</td>\n",
       "      <td>1</td>\n",
       "      <td>5</td>\n",
       "      <td>0</td>\n",
       "      <td>107</td>\n",
       "      <td>3</td>\n",
       "      <td>34</td>\n",
       "    </tr>\n",
       "    <tr>\n",
       "      <th>2</th>\n",
       "      <td>9800</td>\n",
       "      <td>2004</td>\n",
       "      <td>163.0</td>\n",
       "      <td>125000</td>\n",
       "      <td>0</td>\n",
       "      <td>7</td>\n",
       "      <td>1</td>\n",
       "      <td>154</td>\n",
       "      <td>3</td>\n",
       "      <td>36</td>\n",
       "    </tr>\n",
       "    <tr>\n",
       "      <th>3</th>\n",
       "      <td>1500</td>\n",
       "      <td>2001</td>\n",
       "      <td>75.0</td>\n",
       "      <td>150000</td>\n",
       "      <td>0</td>\n",
       "      <td>0</td>\n",
       "      <td>0</td>\n",
       "      <td>110</td>\n",
       "      <td>3</td>\n",
       "      <td>24</td>\n",
       "    </tr>\n",
       "    <tr>\n",
       "      <th>4</th>\n",
       "      <td>3600</td>\n",
       "      <td>2008</td>\n",
       "      <td>69.0</td>\n",
       "      <td>90000</td>\n",
       "      <td>0</td>\n",
       "      <td>0</td>\n",
       "      <td>0</td>\n",
       "      <td>108</td>\n",
       "      <td>3</td>\n",
       "      <td>30</td>\n",
       "    </tr>\n",
       "    <tr>\n",
       "      <th>...</th>\n",
       "      <td>...</td>\n",
       "      <td>...</td>\n",
       "      <td>...</td>\n",
       "      <td>...</td>\n",
       "      <td>...</td>\n",
       "      <td>...</td>\n",
       "      <td>...</td>\n",
       "      <td>...</td>\n",
       "      <td>...</td>\n",
       "      <td>...</td>\n",
       "    </tr>\n",
       "    <tr>\n",
       "      <th>325630</th>\n",
       "      <td>1150</td>\n",
       "      <td>2000</td>\n",
       "      <td>94.0</td>\n",
       "      <td>150000</td>\n",
       "      <td>0</td>\n",
       "      <td>4</td>\n",
       "      <td>0</td>\n",
       "      <td>95</td>\n",
       "      <td>3</td>\n",
       "      <td>7</td>\n",
       "    </tr>\n",
       "    <tr>\n",
       "      <th>325631</th>\n",
       "      <td>2200</td>\n",
       "      <td>2005</td>\n",
       "      <td>115.0</td>\n",
       "      <td>20000</td>\n",
       "      <td>0</td>\n",
       "      <td>2</td>\n",
       "      <td>0</td>\n",
       "      <td>107</td>\n",
       "      <td>3</td>\n",
       "      <td>32</td>\n",
       "    </tr>\n",
       "    <tr>\n",
       "      <th>325632</th>\n",
       "      <td>1199</td>\n",
       "      <td>2000</td>\n",
       "      <td>101.0</td>\n",
       "      <td>125000</td>\n",
       "      <td>0</td>\n",
       "      <td>6</td>\n",
       "      <td>1</td>\n",
       "      <td>90</td>\n",
       "      <td>3</td>\n",
       "      <td>12</td>\n",
       "    </tr>\n",
       "    <tr>\n",
       "      <th>325633</th>\n",
       "      <td>9200</td>\n",
       "      <td>1996</td>\n",
       "      <td>102.0</td>\n",
       "      <td>150000</td>\n",
       "      <td>0</td>\n",
       "      <td>4</td>\n",
       "      <td>0</td>\n",
       "      <td>169</td>\n",
       "      <td>3</td>\n",
       "      <td>24</td>\n",
       "    </tr>\n",
       "    <tr>\n",
       "      <th>325634</th>\n",
       "      <td>3400</td>\n",
       "      <td>2002</td>\n",
       "      <td>100.0</td>\n",
       "      <td>150000</td>\n",
       "      <td>0</td>\n",
       "      <td>3</td>\n",
       "      <td>0</td>\n",
       "      <td>110</td>\n",
       "      <td>3</td>\n",
       "      <td>24</td>\n",
       "    </tr>\n",
       "  </tbody>\n",
       "</table>\n",
       "<p>325635 rows × 10 columns</p>\n",
       "</div>"
      ],
      "text/plain": [
       "        price_x  registration_year  power  mileage  not_repaired  price_y  \\\n",
       "0           480               1993   97.0   150000             0        2   \n",
       "1         18300               2011  190.0   125000             1        5   \n",
       "2          9800               2004  163.0   125000             0        7   \n",
       "3          1500               2001   75.0   150000             0        0   \n",
       "4          3600               2008   69.0    90000             0        0   \n",
       "...         ...                ...    ...      ...           ...      ...   \n",
       "325630     1150               2000   94.0   150000             0        4   \n",
       "325631     2200               2005  115.0    20000             0        2   \n",
       "325632     1199               2000  101.0   125000             0        6   \n",
       "325633     9200               1996  102.0   150000             0        4   \n",
       "325634     3400               2002  100.0   150000             0        3   \n",
       "\n",
       "        price_x  price_y  price_x  price_y  \n",
       "0             0      110        3       24  \n",
       "1             0      107        3       34  \n",
       "2             1      154        3       36  \n",
       "3             0      110        3       24  \n",
       "4             0      108        3       30  \n",
       "...         ...      ...      ...      ...  \n",
       "325630        0       95        3        7  \n",
       "325631        0      107        3       32  \n",
       "325632        1       90        3       12  \n",
       "325633        0      169        3       24  \n",
       "325634        0      110        3       24  \n",
       "\n",
       "[325635 rows x 10 columns]"
      ]
     },
     "execution_count": 41,
     "metadata": {},
     "output_type": "execute_result"
    }
   ],
   "source": [
    "df_ord = df_ord.drop(['vehicle_type','gearbox','model','fuel_type','brand','date_crawled','registration_month','date_created','postal_code','last_seen'], axis =1)\n",
    "df_ord"
   ]
  },
  {
   "cell_type": "code",
   "execution_count": 42,
   "metadata": {},
   "outputs": [],
   "source": [
    "df_ord.columns=['price','registration_year','power','mileage','not_repaired','vehicle_type','gearbox','model','fuel_type','brand']"
   ]
  },
  {
   "cell_type": "markdown",
   "metadata": {},
   "source": [
    "Aqui está a tabela filtrada que usarei para treinar e testar cada modelo. Decidi retirar algumas colunas que julguei não acrescentar para o estudo. "
   ]
  },
  {
   "cell_type": "code",
   "execution_count": 43,
   "metadata": {
    "scrolled": true
   },
   "outputs": [
    {
     "data": {
      "text/html": [
       "<div>\n",
       "<style scoped>\n",
       "    .dataframe tbody tr th:only-of-type {\n",
       "        vertical-align: middle;\n",
       "    }\n",
       "\n",
       "    .dataframe tbody tr th {\n",
       "        vertical-align: top;\n",
       "    }\n",
       "\n",
       "    .dataframe thead th {\n",
       "        text-align: right;\n",
       "    }\n",
       "</style>\n",
       "<table border=\"1\" class=\"dataframe\">\n",
       "  <thead>\n",
       "    <tr style=\"text-align: right;\">\n",
       "      <th></th>\n",
       "      <th>price</th>\n",
       "      <th>registration_year</th>\n",
       "      <th>power</th>\n",
       "      <th>mileage</th>\n",
       "      <th>not_repaired</th>\n",
       "      <th>vehicle_type</th>\n",
       "      <th>gearbox</th>\n",
       "      <th>model</th>\n",
       "      <th>fuel_type</th>\n",
       "      <th>brand</th>\n",
       "    </tr>\n",
       "  </thead>\n",
       "  <tbody>\n",
       "    <tr>\n",
       "      <th>0</th>\n",
       "      <td>480</td>\n",
       "      <td>1993</td>\n",
       "      <td>97.0</td>\n",
       "      <td>150000</td>\n",
       "      <td>0</td>\n",
       "      <td>2</td>\n",
       "      <td>0</td>\n",
       "      <td>110</td>\n",
       "      <td>3</td>\n",
       "      <td>24</td>\n",
       "    </tr>\n",
       "    <tr>\n",
       "      <th>1</th>\n",
       "      <td>18300</td>\n",
       "      <td>2011</td>\n",
       "      <td>190.0</td>\n",
       "      <td>125000</td>\n",
       "      <td>1</td>\n",
       "      <td>5</td>\n",
       "      <td>0</td>\n",
       "      <td>107</td>\n",
       "      <td>3</td>\n",
       "      <td>34</td>\n",
       "    </tr>\n",
       "    <tr>\n",
       "      <th>2</th>\n",
       "      <td>9800</td>\n",
       "      <td>2004</td>\n",
       "      <td>163.0</td>\n",
       "      <td>125000</td>\n",
       "      <td>0</td>\n",
       "      <td>7</td>\n",
       "      <td>1</td>\n",
       "      <td>154</td>\n",
       "      <td>3</td>\n",
       "      <td>36</td>\n",
       "    </tr>\n",
       "    <tr>\n",
       "      <th>3</th>\n",
       "      <td>1500</td>\n",
       "      <td>2001</td>\n",
       "      <td>75.0</td>\n",
       "      <td>150000</td>\n",
       "      <td>0</td>\n",
       "      <td>0</td>\n",
       "      <td>0</td>\n",
       "      <td>110</td>\n",
       "      <td>3</td>\n",
       "      <td>24</td>\n",
       "    </tr>\n",
       "    <tr>\n",
       "      <th>4</th>\n",
       "      <td>3600</td>\n",
       "      <td>2008</td>\n",
       "      <td>69.0</td>\n",
       "      <td>90000</td>\n",
       "      <td>0</td>\n",
       "      <td>0</td>\n",
       "      <td>0</td>\n",
       "      <td>108</td>\n",
       "      <td>3</td>\n",
       "      <td>30</td>\n",
       "    </tr>\n",
       "    <tr>\n",
       "      <th>...</th>\n",
       "      <td>...</td>\n",
       "      <td>...</td>\n",
       "      <td>...</td>\n",
       "      <td>...</td>\n",
       "      <td>...</td>\n",
       "      <td>...</td>\n",
       "      <td>...</td>\n",
       "      <td>...</td>\n",
       "      <td>...</td>\n",
       "      <td>...</td>\n",
       "    </tr>\n",
       "    <tr>\n",
       "      <th>325630</th>\n",
       "      <td>1150</td>\n",
       "      <td>2000</td>\n",
       "      <td>94.0</td>\n",
       "      <td>150000</td>\n",
       "      <td>0</td>\n",
       "      <td>4</td>\n",
       "      <td>0</td>\n",
       "      <td>95</td>\n",
       "      <td>3</td>\n",
       "      <td>7</td>\n",
       "    </tr>\n",
       "    <tr>\n",
       "      <th>325631</th>\n",
       "      <td>2200</td>\n",
       "      <td>2005</td>\n",
       "      <td>115.0</td>\n",
       "      <td>20000</td>\n",
       "      <td>0</td>\n",
       "      <td>2</td>\n",
       "      <td>0</td>\n",
       "      <td>107</td>\n",
       "      <td>3</td>\n",
       "      <td>32</td>\n",
       "    </tr>\n",
       "    <tr>\n",
       "      <th>325632</th>\n",
       "      <td>1199</td>\n",
       "      <td>2000</td>\n",
       "      <td>101.0</td>\n",
       "      <td>125000</td>\n",
       "      <td>0</td>\n",
       "      <td>6</td>\n",
       "      <td>1</td>\n",
       "      <td>90</td>\n",
       "      <td>3</td>\n",
       "      <td>12</td>\n",
       "    </tr>\n",
       "    <tr>\n",
       "      <th>325633</th>\n",
       "      <td>9200</td>\n",
       "      <td>1996</td>\n",
       "      <td>102.0</td>\n",
       "      <td>150000</td>\n",
       "      <td>0</td>\n",
       "      <td>4</td>\n",
       "      <td>0</td>\n",
       "      <td>169</td>\n",
       "      <td>3</td>\n",
       "      <td>24</td>\n",
       "    </tr>\n",
       "    <tr>\n",
       "      <th>325634</th>\n",
       "      <td>3400</td>\n",
       "      <td>2002</td>\n",
       "      <td>100.0</td>\n",
       "      <td>150000</td>\n",
       "      <td>0</td>\n",
       "      <td>3</td>\n",
       "      <td>0</td>\n",
       "      <td>110</td>\n",
       "      <td>3</td>\n",
       "      <td>24</td>\n",
       "    </tr>\n",
       "  </tbody>\n",
       "</table>\n",
       "<p>325635 rows × 10 columns</p>\n",
       "</div>"
      ],
      "text/plain": [
       "        price  registration_year  power  mileage  not_repaired  vehicle_type  \\\n",
       "0         480               1993   97.0   150000             0             2   \n",
       "1       18300               2011  190.0   125000             1             5   \n",
       "2        9800               2004  163.0   125000             0             7   \n",
       "3        1500               2001   75.0   150000             0             0   \n",
       "4        3600               2008   69.0    90000             0             0   \n",
       "...       ...                ...    ...      ...           ...           ...   \n",
       "325630   1150               2000   94.0   150000             0             4   \n",
       "325631   2200               2005  115.0    20000             0             2   \n",
       "325632   1199               2000  101.0   125000             0             6   \n",
       "325633   9200               1996  102.0   150000             0             4   \n",
       "325634   3400               2002  100.0   150000             0             3   \n",
       "\n",
       "        gearbox  model  fuel_type  brand  \n",
       "0             0    110          3     24  \n",
       "1             0    107          3     34  \n",
       "2             1    154          3     36  \n",
       "3             0    110          3     24  \n",
       "4             0    108          3     30  \n",
       "...         ...    ...        ...    ...  \n",
       "325630        0     95          3      7  \n",
       "325631        0    107          3     32  \n",
       "325632        1     90          3     12  \n",
       "325633        0    169          3     24  \n",
       "325634        0    110          3     24  \n",
       "\n",
       "[325635 rows x 10 columns]"
      ]
     },
     "execution_count": 43,
     "metadata": {},
     "output_type": "execute_result"
    }
   ],
   "source": [
    "df_ord"
   ]
  },
  {
   "cell_type": "markdown",
   "metadata": {},
   "source": [
    "Dividi em target e features."
   ]
  },
  {
   "cell_type": "code",
   "execution_count": 44,
   "metadata": {},
   "outputs": [],
   "source": [
    "features = df_ord.drop(['price'], axis=1)\n",
    "target = df_ord['price']"
   ]
  },
  {
   "cell_type": "markdown",
   "metadata": {},
   "source": [
    "Dividi em conjunto de treinamento e teste. "
   ]
  },
  {
   "cell_type": "code",
   "execution_count": 45,
   "metadata": {},
   "outputs": [
    {
     "name": "stdout",
     "output_type": "stream",
     "text": [
      "(244226, 9)\n",
      "(81409, 9)\n",
      "(244226,)\n",
      "(81409,)\n"
     ]
    }
   ],
   "source": [
    "features_train, features_test, target_train, target_test = train_test_split(\n",
    "    features, target, test_size = 0.25, random_state = 12345)\n",
    "print(features_train.shape)\n",
    "print(features_test.shape)\n",
    "print(target_train.shape)\n",
    "print(target_test.shape)"
   ]
  },
  {
   "cell_type": "markdown",
   "metadata": {},
   "source": [
    "Padronizei as características através do método de escalabilidade. "
   ]
  },
  {
   "cell_type": "code",
   "execution_count": 46,
   "metadata": {},
   "outputs": [],
   "source": [
    "feature_names = ['registration_year','power','mileage','not_repaired','vehicle_type','gearbox','model','fuel_type','brand']\n",
    "\n",
    "transformer_mas = MaxAbsScaler().fit(df_ord[feature_names].to_numpy())\n",
    "\n",
    "features_train_scaled = features_train.copy()\n",
    "features_train_scaled.loc[:, feature_names] = transformer_mas.transform(features_train[feature_names].to_numpy())\n",
    "features_test_scaled = features_test.copy()\n",
    "features_test_scaled.loc[:, feature_names] = transformer_mas.transform(features_test[feature_names].to_numpy())"
   ]
  },
  {
   "cell_type": "code",
   "execution_count": 47,
   "metadata": {},
   "outputs": [
    {
     "data": {
      "text/html": [
       "<div>\n",
       "<style scoped>\n",
       "    .dataframe tbody tr th:only-of-type {\n",
       "        vertical-align: middle;\n",
       "    }\n",
       "\n",
       "    .dataframe tbody tr th {\n",
       "        vertical-align: top;\n",
       "    }\n",
       "\n",
       "    .dataframe thead th {\n",
       "        text-align: right;\n",
       "    }\n",
       "</style>\n",
       "<table border=\"1\" class=\"dataframe\">\n",
       "  <thead>\n",
       "    <tr style=\"text-align: right;\">\n",
       "      <th></th>\n",
       "      <th>registration_year</th>\n",
       "      <th>power</th>\n",
       "      <th>mileage</th>\n",
       "      <th>not_repaired</th>\n",
       "      <th>vehicle_type</th>\n",
       "      <th>gearbox</th>\n",
       "      <th>model</th>\n",
       "      <th>fuel_type</th>\n",
       "      <th>brand</th>\n",
       "    </tr>\n",
       "  </thead>\n",
       "  <tbody>\n",
       "    <tr>\n",
       "      <th>166202</th>\n",
       "      <td>0.995536</td>\n",
       "      <td>0.218</td>\n",
       "      <td>1.000000</td>\n",
       "      <td>0.0</td>\n",
       "      <td>0.285714</td>\n",
       "      <td>0.0</td>\n",
       "      <td>0.345382</td>\n",
       "      <td>0.6</td>\n",
       "      <td>0.794872</td>\n",
       "    </tr>\n",
       "    <tr>\n",
       "      <th>215311</th>\n",
       "      <td>0.994048</td>\n",
       "      <td>0.202</td>\n",
       "      <td>0.833333</td>\n",
       "      <td>0.0</td>\n",
       "      <td>0.000000</td>\n",
       "      <td>0.0</td>\n",
       "      <td>0.156627</td>\n",
       "      <td>0.6</td>\n",
       "      <td>0.692308</td>\n",
       "    </tr>\n",
       "    <tr>\n",
       "      <th>108018</th>\n",
       "      <td>0.993056</td>\n",
       "      <td>0.250</td>\n",
       "      <td>1.000000</td>\n",
       "      <td>0.0</td>\n",
       "      <td>0.285714</td>\n",
       "      <td>0.0</td>\n",
       "      <td>0.297189</td>\n",
       "      <td>0.6</td>\n",
       "      <td>0.179487</td>\n",
       "    </tr>\n",
       "    <tr>\n",
       "      <th>94275</th>\n",
       "      <td>0.993056</td>\n",
       "      <td>0.202</td>\n",
       "      <td>1.000000</td>\n",
       "      <td>0.0</td>\n",
       "      <td>0.428571</td>\n",
       "      <td>0.0</td>\n",
       "      <td>0.441767</td>\n",
       "      <td>0.6</td>\n",
       "      <td>0.615385</td>\n",
       "    </tr>\n",
       "    <tr>\n",
       "      <th>149796</th>\n",
       "      <td>0.994544</td>\n",
       "      <td>0.202</td>\n",
       "      <td>1.000000</td>\n",
       "      <td>0.0</td>\n",
       "      <td>0.857143</td>\n",
       "      <td>0.0</td>\n",
       "      <td>0.297189</td>\n",
       "      <td>0.6</td>\n",
       "      <td>0.179487</td>\n",
       "    </tr>\n",
       "  </tbody>\n",
       "</table>\n",
       "</div>"
      ],
      "text/plain": [
       "        registration_year  power   mileage  not_repaired  vehicle_type  \\\n",
       "166202           0.995536  0.218  1.000000           0.0      0.285714   \n",
       "215311           0.994048  0.202  0.833333           0.0      0.000000   \n",
       "108018           0.993056  0.250  1.000000           0.0      0.285714   \n",
       "94275            0.993056  0.202  1.000000           0.0      0.428571   \n",
       "149796           0.994544  0.202  1.000000           0.0      0.857143   \n",
       "\n",
       "        gearbox     model  fuel_type     brand  \n",
       "166202      0.0  0.345382        0.6  0.794872  \n",
       "215311      0.0  0.156627        0.6  0.692308  \n",
       "108018      0.0  0.297189        0.6  0.179487  \n",
       "94275       0.0  0.441767        0.6  0.615385  \n",
       "149796      0.0  0.297189        0.6  0.179487  "
      ]
     },
     "execution_count": 47,
     "metadata": {},
     "output_type": "execute_result"
    }
   ],
   "source": [
    "features_train_scaled.sample(5)"
   ]
  },
  {
   "cell_type": "markdown",
   "metadata": {},
   "source": [
    "Abaixo os treinamentos dos modelos e o tempo que levaram para ser processados: "
   ]
  },
  {
   "cell_type": "markdown",
   "metadata": {},
   "source": [
    "Regressão Linear"
   ]
  },
  {
   "cell_type": "code",
   "execution_count": 48,
   "metadata": {},
   "outputs": [
    {
     "name": "stdout",
     "output_type": "stream",
     "text": [
      "O REQM do modelo de Regressão Linear é: 2889.370509508445\n",
      "Tempo de processamento para Regressão Linear = 0.09\n",
      "CPU times: user 51.8 ms, sys: 39.9 ms, total: 91.7 ms\n",
      "Wall time: 76.4 ms\n"
     ]
    }
   ],
   "source": [
    "%%time\n",
    "start_lr = time.process_time()\n",
    "model_lr = LinearRegression()\n",
    "model_lr.fit(features_train_scaled,target_train) \n",
    "predictions_test = model_lr.predict(features_test_scaled) \n",
    "result_lr = mean_squared_error(target_test, predictions_test)**0.5\n",
    "end_lr  = time.process_time()\n",
    "lr_time = round(end_lr-start_lr,2)\n",
    "print('O REQM do modelo de Regressão Linear é:', result_lr)\n",
    "print(f'Tempo de processamento para Regressão Linear = {lr_time}')"
   ]
  },
  {
   "cell_type": "code",
   "execution_count": 49,
   "metadata": {},
   "outputs": [
    {
     "name": "stdout",
     "output_type": "stream",
     "text": [
      "O REQM do modelo de Regressão Linear é: 2889.370509508445\n",
      "CPU times: user 3.42 ms, sys: 7.98 ms, total: 11.4 ms\n",
      "Wall time: 4.49 ms\n"
     ]
    }
   ],
   "source": [
    "%%time\n",
    "predictions_test = model_lr.predict(features_test_scaled) \n",
    "result_lr = mean_squared_error(target_test, predictions_test)**0.5\n",
    "lr_time = round(end_lr-start_lr,2)\n",
    "print('O REQM do modelo de Regressão Linear é:', result_lr)\n"
   ]
  },
  {
   "cell_type": "markdown",
   "metadata": {},
   "source": [
    "Floresta Aleatória"
   ]
  },
  {
   "cell_type": "code",
   "execution_count": 50,
   "metadata": {},
   "outputs": [
    {
     "name": "stdout",
     "output_type": "stream",
     "text": [
      "O REQM do modelo de Regressão Floresta Aleatória é: 1612.4156155946187\n",
      "CPU times: user 1min 16s, sys: 404 ms, total: 1min 16s\n",
      "Wall time: 1min 16s\n"
     ]
    }
   ],
   "source": [
    "%%time\n",
    "model_ranforest = RandomForestRegressor(random_state=12345) \n",
    "model_ranforest.fit(features_train_scaled,target_train) \n",
    "predictions_test_ranforest = model_ranforest.predict(features_test_scaled) \n",
    "result_ranforest = mean_squared_error(target_test, predictions_test_ranforest)**0.5\n",
    "print('O REQM do modelo de Regressão Floresta Aleatória é:', result_ranforest)"
   ]
  },
  {
   "cell_type": "code",
   "execution_count": 51,
   "metadata": {},
   "outputs": [
    {
     "name": "stdout",
     "output_type": "stream",
     "text": [
      "REQM do melhor modelo de Floresta Aleatória no conjunto de teste é: 1635.70375812869 , com n_estimators: 50 e profundidade: 15\n",
      "CPU times: user 2min 29s, sys: 59.9 ms, total: 2min 30s\n",
      "Wall time: 2min 30s\n"
     ]
    }
   ],
   "source": [
    "%%time\n",
    "\n",
    "best_model_ranforest = None\n",
    "best_result_ranforest = 10000\n",
    "best_est_ranforest = 0\n",
    "best_depth_ranforest = 0\n",
    "for est in range(30, 51, 10):\n",
    "    for depth in range (5, 16, 5):\n",
    "        model = RandomForestRegressor(random_state=12345, n_estimators=est, max_depth=depth) \n",
    "        model.fit(features_train_scaled,target_train) \n",
    "        predictions_test = model.predict(features_test_scaled) \n",
    "        result = mean_squared_error(target_test, predictions_test)**0.5\n",
    "        if result < best_result_ranforest:\n",
    "            best_model_ranforest = model\n",
    "            best_result_ranforest = result\n",
    "            best_est_ranforest = est\n",
    "            best_depth_ranforest = depth\n",
    "\n",
    "print(\"REQM do melhor modelo de Floresta Aleatória no conjunto de teste é:\", best_result_ranforest, \", com n_estimators:\", best_est_ranforest, \"e profundidade:\", best_depth_ranforest)"
   ]
  },
  {
   "cell_type": "code",
   "execution_count": 52,
   "metadata": {},
   "outputs": [
    {
     "name": "stdout",
     "output_type": "stream",
     "text": [
      "O REQM do modelo de Regressão Floresta Aleatória é: 1612.4156155946187\n",
      "CPU times: user 3.35 s, sys: 3.96 ms, total: 3.36 s\n",
      "Wall time: 3.36 s\n"
     ]
    }
   ],
   "source": [
    "%%time\n",
    "predictions_test_ranforest = model_ranforest.predict(features_test_scaled) \n",
    "result_ranforest = mean_squared_error(target_test, predictions_test_ranforest)**0.5\n",
    "print('O REQM do modelo de Regressão Floresta Aleatória é:', result_ranforest)"
   ]
  },
  {
   "cell_type": "markdown",
   "metadata": {},
   "source": [
    "Árvore de Decisão"
   ]
  },
  {
   "cell_type": "code",
   "execution_count": 53,
   "metadata": {},
   "outputs": [
    {
     "name": "stdout",
     "output_type": "stream",
     "text": [
      "O REQM do modelo de Regressão Árvore de Decisão é: 1942.6988960065785\n",
      "CPU times: user 1.13 s, sys: 0 ns, total: 1.13 s\n",
      "Wall time: 1.14 s\n"
     ]
    }
   ],
   "source": [
    "%%time\n",
    "model_tree = DecisionTreeRegressor(random_state=12345) \n",
    "model_tree.fit(features_train_scaled,target_train) \n",
    "predictions_test_tree = model_tree.predict(features_test_scaled) \n",
    "result_tree = mean_squared_error(target_test, predictions_test_tree)**0.5\n",
    "print('O REQM do modelo de Regressão Árvore de Decisão é:', result_tree)"
   ]
  },
  {
   "cell_type": "code",
   "execution_count": 54,
   "metadata": {},
   "outputs": [
    {
     "name": "stdout",
     "output_type": "stream",
     "text": [
      "REQM do melhor modelo de Árvore de Decisão no conjunto de teste é: 1835.1242052817147 com profundidade  15\n",
      "CPU times: user 1.75 s, sys: 3.95 ms, total: 1.75 s\n",
      "Wall time: 1.76 s\n"
     ]
    }
   ],
   "source": [
    "%%time\n",
    "\n",
    "best_model_tree = None\n",
    "best_result_tree = 10000\n",
    "best_depth_tree = 0\n",
    "\n",
    "for depth in range (5, 16, 5):\n",
    "    model = DecisionTreeRegressor(random_state=12345, max_depth=depth) \n",
    "    model.fit(features_train_scaled,target_train) \n",
    "    predictions_test = model.predict(features_test_scaled) \n",
    "    result = mean_squared_error(target_test, predictions_test)**0.5\n",
    "    if result < best_result_tree:\n",
    "        best_model_tree = model\n",
    "        best_result_tree = result\n",
    "        best_depth_tree = depth\n",
    "\n",
    "print(\"REQM do melhor modelo de Árvore de Decisão no conjunto de teste é:\", best_result_tree, \"com profundidade \", best_depth_tree)"
   ]
  },
  {
   "cell_type": "code",
   "execution_count": 55,
   "metadata": {},
   "outputs": [
    {
     "name": "stdout",
     "output_type": "stream",
     "text": [
      "O REQM do melhor modelo de Árvore de Decisão é: 1835.1242052817147\n",
      "CPU times: user 21.2 ms, sys: 7 µs, total: 21.2 ms\n",
      "Wall time: 19.5 ms\n"
     ]
    }
   ],
   "source": [
    "%%time\n",
    "predictions_test_tree = best_model_tree.predict(features_test_scaled) \n",
    "result_tree_best = mean_squared_error(target_test, predictions_test_tree)**0.5\n",
    "print('O REQM do melhor modelo de Árvore de Decisão é:', result_tree_best)"
   ]
  },
  {
   "cell_type": "code",
   "execution_count": 56,
   "metadata": {},
   "outputs": [
    {
     "name": "stdout",
     "output_type": "stream",
     "text": [
      "O REQM do melhor modelo de Árvore de Decisão é: 1835.1242052817147\n",
      "CPU times: user 856 ms, sys: 0 ns, total: 856 ms\n",
      "Wall time: 870 ms\n"
     ]
    }
   ],
   "source": [
    "%%time\n",
    "model = DecisionTreeRegressor(random_state=12345, max_depth=best_depth_tree) \n",
    "model.fit(features_train_scaled,target_train) \n",
    "predictions_test_tree = model.predict(features_test_scaled) \n",
    "result_tree = mean_squared_error(target_test, predictions_test_tree)**0.5\n",
    "print('O REQM do melhor modelo de Árvore de Decisão é:', result_tree)"
   ]
  },
  {
   "cell_type": "markdown",
   "metadata": {},
   "source": [
    "LightGBM"
   ]
  },
  {
   "cell_type": "code",
   "execution_count": 57,
   "metadata": {},
   "outputs": [
    {
     "name": "stdout",
     "output_type": "stream",
     "text": [
      "O REQM do modelo de LGBMRegressor é: 1716.0767139110108\n",
      "CPU times: user 14.4 s, sys: 69.4 ms, total: 14.4 s\n",
      "Wall time: 14.5 s\n"
     ]
    }
   ],
   "source": [
    "%%time\n",
    "\n",
    "model = LGBMRegressor()\n",
    "model.fit(features_train_scaled,target_train)\n",
    "predictions_test = model.predict(features_test_scaled) \n",
    "result_LGBM = mean_squared_error(target_test, predictions_test)**0.5\n",
    "print('O REQM do modelo de LGBMRegressor é:', result_LGBM)"
   ]
  },
  {
   "cell_type": "code",
   "execution_count": 58,
   "metadata": {},
   "outputs": [
    {
     "name": "stdout",
     "output_type": "stream",
     "text": [
      "REQM do melhor modelo LightGBM Regressor no conjunto de teste 1636.795986936639 n_estimators: 300 best_depth: 15\n",
      "CPU times: user 3min 24s, sys: 1.16 s, total: 3min 26s\n",
      "Wall time: 3min 27s\n"
     ]
    }
   ],
   "source": [
    "\n",
    "%%time\n",
    "\n",
    "best_model_LGBM = None\n",
    "best_result_LGBM = 10000\n",
    "best_est_LGBM = 0\n",
    "best_depth_LGBM = 0\n",
    "for est in range(100, 301, 100):\n",
    "    for depth in range (5, 16, 5):\n",
    "        model = LGBMRegressor(random_state=12345, n_estimators=est, max_depth=depth, learning_rate = 0.1) \n",
    "        model.fit(features_train_scaled,target_train) \n",
    "        predictions_test = model.predict(features_test_scaled) \n",
    "        result = mean_squared_error(target_test, predictions_test)**0.5\n",
    "        if result < best_result_LGBM:\n",
    "            best_model_LGBM = model\n",
    "            best_result_LGBM = result\n",
    "            best_est_LGBM = est\n",
    "            best_depth_LGBM = depth\n",
    "\n",
    "print(\"REQM do melhor modelo LightGBM Regressor no conjunto de teste\", best_result_LGBM, \"n_estimators:\", best_est_LGBM, \"best_depth:\", best_depth_LGBM)"
   ]
  },
  {
   "cell_type": "code",
   "execution_count": 59,
   "metadata": {},
   "outputs": [
    {
     "name": "stdout",
     "output_type": "stream",
     "text": [
      "O REQM do melhor modelo de LightGBM é: 1636.795986936639\n",
      "CPU times: user 1.95 s, sys: 0 ns, total: 1.95 s\n",
      "Wall time: 1.92 s\n"
     ]
    }
   ],
   "source": [
    "%%time\n",
    "predictions_test_LGBM = best_model_LGBM.predict(features_test_scaled) \n",
    "result_LGBM_best = mean_squared_error(target_test, predictions_test_LGBM)**0.5\n",
    "print('O REQM do melhor modelo de LightGBM é:', result_LGBM_best)"
   ]
  },
  {
   "cell_type": "code",
   "execution_count": 60,
   "metadata": {},
   "outputs": [
    {
     "name": "stdout",
     "output_type": "stream",
     "text": [
      "O REQM do melhor modelo de LightGBM é: 1636.795986936639\n",
      "CPU times: user 33.7 s, sys: 193 ms, total: 33.9 s\n",
      "Wall time: 34.2 s\n"
     ]
    }
   ],
   "source": [
    "%%time\n",
    "model = LGBMRegressor(random_state=12345, n_estimators=best_est_LGBM, max_depth=best_depth_LGBM, learning_rate = 0.1) \n",
    "model.fit(features_train_scaled,target_train)\n",
    "predictions_test_LGBM = model.predict(features_test_scaled) \n",
    "result_LGBM = mean_squared_error(target_test, predictions_test_LGBM)**0.5\n",
    "print('O REQM do melhor modelo de LightGBM é:', result_LGBM)"
   ]
  },
  {
   "cell_type": "markdown",
   "metadata": {},
   "source": [
    "CatBoost"
   ]
  },
  {
   "cell_type": "code",
   "execution_count": 61,
   "metadata": {},
   "outputs": [
    {
     "name": "stdout",
     "output_type": "stream",
     "text": [
      "Learning rate set to 0.0976\n",
      "0:\tlearn: 4260.0128792\ttotal: 107ms\tremaining: 1m 46s\n",
      "100:\tlearn: 1796.2870594\ttotal: 4.5s\tremaining: 40s\n",
      "200:\tlearn: 1725.4689213\ttotal: 8.75s\tremaining: 34.8s\n",
      "300:\tlearn: 1687.4819015\ttotal: 13.1s\tremaining: 30.3s\n",
      "400:\tlearn: 1661.2551750\ttotal: 17.4s\tremaining: 26s\n",
      "500:\tlearn: 1640.6120470\ttotal: 21.7s\tremaining: 21.6s\n",
      "600:\tlearn: 1623.0641963\ttotal: 26s\tremaining: 17.3s\n",
      "700:\tlearn: 1608.7169530\ttotal: 30.3s\tremaining: 12.9s\n",
      "800:\tlearn: 1595.4411912\ttotal: 34.7s\tremaining: 8.61s\n",
      "900:\tlearn: 1584.1024667\ttotal: 38.9s\tremaining: 4.28s\n",
      "999:\tlearn: 1574.6035581\ttotal: 43.2s\tremaining: 0us\n",
      "O REQM do modelo de CatBoostRegressor é: 1636.8346508118664\n",
      "CPU times: user 43.4 s, sys: 57.7 ms, total: 43.4 s\n",
      "Wall time: 43.7 s\n"
     ]
    }
   ],
   "source": [
    "%%time\n",
    "\n",
    "model_catboost = CatBoostRegressor(random_seed=12345)\n",
    "model_catboost.fit(features_train_scaled, target_train, verbose = 100)\n",
    "predictions_test = model_catboost.predict(features_test_scaled) \n",
    "result_catboost = mean_squared_error(target_test, predictions_test)**0.5\n",
    "print('O REQM do modelo de CatBoostRegressor é:', result_catboost)"
   ]
  },
  {
   "cell_type": "code",
   "execution_count": 62,
   "metadata": {},
   "outputs": [
    {
     "name": "stdout",
     "output_type": "stream",
     "text": [
      "0:\tlearn: 4265.2395277\ttotal: 43.8ms\tremaining: 4.33s\n",
      "99:\tlearn: 1834.0423814\ttotal: 4.25s\tremaining: 0us\n",
      "0:\tlearn: 4214.3757400\ttotal: 131ms\tremaining: 13s\n",
      "99:\tlearn: 1678.0708338\ttotal: 12.7s\tremaining: 0us\n",
      "0:\tlearn: 4194.9851141\ttotal: 668ms\tremaining: 1m 6s\n",
      "99:\tlearn: 1539.4372511\ttotal: 1m 5s\tremaining: 0us\n",
      "0:\tlearn: 4265.2395277\ttotal: 42.5ms\tremaining: 6.33s\n",
      "100:\tlearn: 1832.6813720\ttotal: 4.33s\tremaining: 2.1s\n",
      "149:\tlearn: 1786.9033941\ttotal: 6.41s\tremaining: 0us\n",
      "0:\tlearn: 4214.3757400\ttotal: 129ms\tremaining: 19.2s\n",
      "100:\tlearn: 1677.0933581\ttotal: 12.6s\tremaining: 6.1s\n",
      "149:\tlearn: 1632.1731228\ttotal: 18.6s\tremaining: 0us\n",
      "0:\tlearn: 4194.9851141\ttotal: 684ms\tremaining: 1m 41s\n",
      "100:\tlearn: 1537.5727846\ttotal: 1m 4s\tremaining: 31.4s\n",
      "149:\tlearn: 1478.1129343\ttotal: 1m 36s\tremaining: 0us\n",
      "0:\tlearn: 4265.2395277\ttotal: 44.9ms\tremaining: 8.94s\n",
      "100:\tlearn: 1832.6813720\ttotal: 4.21s\tremaining: 4.13s\n",
      "199:\tlearn: 1758.9686979\ttotal: 8.2s\tremaining: 0us\n",
      "0:\tlearn: 4214.3757400\ttotal: 125ms\tremaining: 24.8s\n",
      "100:\tlearn: 1677.0933581\ttotal: 12.8s\tremaining: 12.5s\n",
      "199:\tlearn: 1598.8392068\ttotal: 25.4s\tremaining: 0us\n",
      "0:\tlearn: 4194.9851141\ttotal: 624ms\tremaining: 2m 4s\n",
      "100:\tlearn: 1537.5727846\ttotal: 1m 5s\tremaining: 1m 3s\n",
      "199:\tlearn: 1435.8965984\ttotal: 2m 6s\tremaining: 0us\n",
      "REQM do melhor modelo CatBoost Regressor no conjunto de teste 1594.534655787259 iterações: 200 best_depth: 15\n",
      "CPU times: user 5min 8s, sys: 57.5 s, total: 6min 6s\n",
      "Wall time: 6min 8s\n"
     ]
    }
   ],
   "source": [
    "\n",
    "%%time\n",
    "\n",
    "best_model_catboost = None\n",
    "best_result_catboost = 10000\n",
    "best_ite_catboost = 0\n",
    "best_depth_catboost = 0\n",
    "for ite in range(100, 201, 50):\n",
    "    for d in range (5, 16, 5):\n",
    "        model_catboost = CatBoostRegressor(loss_function='RMSE', random_seed=12345, depth=d,iterations = ite, learning_rate = 0.1) \n",
    "        model_catboost.fit(features_train_scaled,target_train, verbose = 100) \n",
    "        predictions_test = model_catboost.predict(features_test_scaled) \n",
    "        result = mean_squared_error(target_test, predictions_test)**0.5\n",
    "        if result < best_result_catboost:\n",
    "            best_model_catboost = model_catboost\n",
    "            best_result_catboost = result\n",
    "            best_ite_catboost = ite\n",
    "            best_depth_catboost = d\n",
    "\n",
    "print(\"REQM do melhor modelo CatBoost Regressor no conjunto de teste\", best_result_catboost, \"iterações:\", best_ite_catboost, \"best_depth:\", best_depth_catboost)"
   ]
  },
  {
   "cell_type": "code",
   "execution_count": 63,
   "metadata": {},
   "outputs": [
    {
     "name": "stdout",
     "output_type": "stream",
     "text": [
      "0:\tlearn: 4194.9851141\ttotal: 632ms\tremaining: 2m 5s\n",
      "100:\tlearn: 1537.5727846\ttotal: 1m 2s\tremaining: 1m\n",
      "199:\tlearn: 1435.8965984\ttotal: 2m 3s\tremaining: 0us\n",
      "O REQM do melhor modelo de CatBoost é: 1594.534655787259\n",
      "CPU times: user 1min 38s, sys: 25.3 s, total: 2min 3s\n",
      "Wall time: 2min 3s\n"
     ]
    }
   ],
   "source": [
    "%%time\n",
    "model_catboost = CatBoostRegressor(loss_function='RMSE', random_seed=12345, depth=best_depth_catboost,iterations = best_ite_catboost, learning_rate = 0.1)\n",
    "model_catboost.fit(features_train_scaled,target_train, verbose = 100)\n",
    "predictions_test_catboost = best_model_catboost.predict(features_test_scaled) \n",
    "result_catboost_best = mean_squared_error(target_test, predictions_test_catboost)**0.5\n",
    "print('O REQM do melhor modelo de CatBoost é:', result_catboost_best)"
   ]
  },
  {
   "cell_type": "code",
   "execution_count": 64,
   "metadata": {},
   "outputs": [
    {
     "name": "stdout",
     "output_type": "stream",
     "text": [
      "O REQM do melhor modelo de CatBoost é: 1594.534655787259\n",
      "CPU times: user 122 ms, sys: 0 ns, total: 122 ms\n",
      "Wall time: 130 ms\n"
     ]
    }
   ],
   "source": [
    "%%time\n",
    "predictions_test_catboost = best_model_catboost.predict(features_test_scaled) \n",
    "result_catboost_best = mean_squared_error(target_test, predictions_test_catboost)**0.5\n",
    "print('O REQM do melhor modelo de CatBoost é:', result_catboost_best)\n"
   ]
  },
  {
   "cell_type": "markdown",
   "metadata": {},
   "source": [
    "XGBoost"
   ]
  },
  {
   "cell_type": "code",
   "execution_count": 65,
   "metadata": {},
   "outputs": [
    {
     "name": "stdout",
     "output_type": "stream",
     "text": [
      "O REQM do modelo de XGBRegressor é: 1645.2498728472178\n",
      "CPU times: user 35.7 s, sys: 69.4 ms, total: 35.8 s\n",
      "Wall time: 36.2 s\n"
     ]
    }
   ],
   "source": [
    "%%time\n",
    "\n",
    "model = XGBRegressor(objective='reg:squarederror')\n",
    "model.fit(features_train_scaled,target_train)\n",
    "predictions_test = model.predict(features_test_scaled) \n",
    "result_XGB = mean_squared_error(target_test, predictions_test)**0.5\n",
    "print('O REQM do modelo de XGBRegressor é:', result_XGB)"
   ]
  },
  {
   "cell_type": "code",
   "execution_count": 66,
   "metadata": {},
   "outputs": [
    {
     "name": "stdout",
     "output_type": "stream",
     "text": [
      "O REQM do modelo de XGBRegressor com hiperparâmetros é: 1553.4736196330912\n",
      "CPU times: user 3min 20s, sys: 456 ms, total: 3min 20s\n",
      "Wall time: 3min 26s\n"
     ]
    }
   ],
   "source": [
    "%%time\n",
    "\n",
    "model_xgb = XGBRegressor(random_state=12345, n_estimators=300, max_depth=10, learning_rate = 0.1) \n",
    "model_xgb.fit(features_train_scaled,target_train) \n",
    "predictions_test_xgb = model_xgb.predict(features_test_scaled) \n",
    "result__xgb = mean_squared_error(target_test, predictions_test_xgb)**0.5\n",
    "print('O REQM do modelo de XGBRegressor com hiperparâmetros é:', result__xgb)"
   ]
  },
  {
   "cell_type": "markdown",
   "metadata": {},
   "source": [
    "Tentei ajustar os hiper parâmetros, mas o tempo sempre excedia. Por isso, tomei a decisão a tentar os hiper parâmetros  n_estimators=300, max_depth=10, learning_rate = 0.1. "
   ]
  },
  {
   "cell_type": "code",
   "execution_count": 67,
   "metadata": {},
   "outputs": [
    {
     "name": "stdout",
     "output_type": "stream",
     "text": [
      "O REQM do modelo de XGBRegressor com hiperparâmetros é: 1553.4736196330912\n",
      "CPU times: user 2.3 s, sys: 5.47 ms, total: 2.31 s\n",
      "Wall time: 2.31 s\n"
     ]
    }
   ],
   "source": [
    "%%time\n",
    "predictions_test_xgb = model_xgb.predict(features_test_scaled) \n",
    "result__xgb = mean_squared_error(target_test, predictions_test_xgb)**0.5\n",
    "print('O REQM do modelo de XGBRegressor com hiperparâmetros é:', result__xgb)"
   ]
  },
  {
   "cell_type": "markdown",
   "metadata": {},
   "source": [
    "Resumo dos resultados:"
   ]
  },
  {
   "cell_type": "code",
   "execution_count": 68,
   "metadata": {
    "scrolled": true
   },
   "outputs": [
    {
     "data": {
      "text/plain": [
       "[2889.370509508445,\n",
       " 1835.1242052817147,\n",
       " 1612.4156155946187,\n",
       " 1553.4736196330912,\n",
       " 1594.534655787259,\n",
       " 1636.795986936639]"
      ]
     },
     "execution_count": 68,
     "metadata": {},
     "output_type": "execute_result"
    }
   ],
   "source": [
    "REQM =[result_lr,result_tree,result_ranforest,result__xgb,result_catboost_best,result_LGBM]\n",
    "REQM"
   ]
  },
  {
   "cell_type": "code",
   "execution_count": 69,
   "metadata": {},
   "outputs": [
    {
     "data": {
      "text/plain": [
       "['Regressão Linear',\n",
       " 'Árvore de Decisão',\n",
       " 'Floresta Aleatória',\n",
       " 'XGBoost',\n",
       " 'CatBoost',\n",
       " 'LightGBM']"
      ]
     },
     "execution_count": 69,
     "metadata": {},
     "output_type": "execute_result"
    }
   ],
   "source": [
    "modelos = ['Regressão Linear','Árvore de Decisão','Floresta Aleatória','XGBoost','CatBoost','LightGBM']\n",
    "modelos"
   ]
  },
  {
   "cell_type": "code",
   "execution_count": 70,
   "metadata": {},
   "outputs": [
    {
     "data": {
      "text/html": [
       "<div>\n",
       "<style scoped>\n",
       "    .dataframe tbody tr th:only-of-type {\n",
       "        vertical-align: middle;\n",
       "    }\n",
       "\n",
       "    .dataframe tbody tr th {\n",
       "        vertical-align: top;\n",
       "    }\n",
       "\n",
       "    .dataframe thead th {\n",
       "        text-align: right;\n",
       "    }\n",
       "</style>\n",
       "<table border=\"1\" class=\"dataframe\">\n",
       "  <thead>\n",
       "    <tr style=\"text-align: right;\">\n",
       "      <th></th>\n",
       "      <th>Model REQM</th>\n",
       "      <th>Tempo Treinamento Modelo</th>\n",
       "      <th>Tempo para Predição</th>\n",
       "    </tr>\n",
       "  </thead>\n",
       "  <tbody>\n",
       "    <tr>\n",
       "      <th>Regressão Linear</th>\n",
       "      <td>2889.370510</td>\n",
       "      <td>0.91</td>\n",
       "      <td>0.01</td>\n",
       "    </tr>\n",
       "    <tr>\n",
       "      <th>Árvore de Decisão</th>\n",
       "      <td>1835.124205</td>\n",
       "      <td>0.85</td>\n",
       "      <td>0.02</td>\n",
       "    </tr>\n",
       "    <tr>\n",
       "      <th>Floresta Aleatória</th>\n",
       "      <td>1612.415616</td>\n",
       "      <td>78.00</td>\n",
       "      <td>3.50</td>\n",
       "    </tr>\n",
       "    <tr>\n",
       "      <th>XGBoost</th>\n",
       "      <td>1553.473620</td>\n",
       "      <td>216.00</td>\n",
       "      <td>2.30</td>\n",
       "    </tr>\n",
       "    <tr>\n",
       "      <th>CatBoost</th>\n",
       "      <td>1594.534656</td>\n",
       "      <td>131.00</td>\n",
       "      <td>0.01</td>\n",
       "    </tr>\n",
       "    <tr>\n",
       "      <th>LightGBM</th>\n",
       "      <td>1636.795987</td>\n",
       "      <td>12.10</td>\n",
       "      <td>1.93</td>\n",
       "    </tr>\n",
       "  </tbody>\n",
       "</table>\n",
       "</div>"
      ],
      "text/plain": [
       "                     Model REQM  Tempo Treinamento Modelo  Tempo para Predição\n",
       "Regressão Linear    2889.370510                      0.91                 0.01\n",
       "Árvore de Decisão   1835.124205                      0.85                 0.02\n",
       "Floresta Aleatória  1612.415616                     78.00                 3.50\n",
       "XGBoost             1553.473620                    216.00                 2.30\n",
       "CatBoost            1594.534656                    131.00                 0.01\n",
       "LightGBM            1636.795987                     12.10                 1.93"
      ]
     },
     "execution_count": 70,
     "metadata": {},
     "output_type": "execute_result"
    }
   ],
   "source": [
    "resultados = pd.DataFrame( \n",
    "    {'Model REQM' : REQM,\n",
    "    'Tempo Treinamento Modelo' : [0.91, 0.85, 78, 216, 131, 12.1],\n",
    "    'Tempo para Predição' : [0.01, 0.02, 3.5, 2.3, 0.01, 1.93]}, \n",
    "    index = modelos)\n",
    "resultados"
   ]
  },
  {
   "cell_type": "markdown",
   "metadata": {},
   "source": [
    "Após treinar 6 modelos diferentes para predição de preço do app da Rusty Bargain, cheguei a conclusão de que o modelo CatBoost seria uma boa opção para a empresa. Ele tem o segundo REQM mais baixo e apesar do treinamento do modelo ser o segundo mais demorado, levando 131 segundos, ele foi muito rápido na predição, apenas 0,01 segundos. Por isso, depois de treinado, esse modelo seria a melhor escolha. "
   ]
  }
 ],
 "metadata": {
  "kernelspec": {
   "display_name": "Python 3 (ipykernel)",
   "language": "python",
   "name": "python3"
  },
  "language_info": {
   "codemirror_mode": {
    "name": "ipython",
    "version": 3
   },
   "file_extension": ".py",
   "mimetype": "text/x-python",
   "name": "python",
   "nbconvert_exporter": "python",
   "pygments_lexer": "ipython3",
   "version": "3.9.5"
  },
  "toc": {
   "base_numbering": 1,
   "nav_menu": {},
   "number_sections": true,
   "sideBar": true,
   "skip_h1_title": true,
   "title_cell": "Table of Contents",
   "title_sidebar": "Contents",
   "toc_cell": false,
   "toc_position": {},
   "toc_section_display": true,
   "toc_window_display": false
  }
 },
 "nbformat": 4,
 "nbformat_minor": 2
}
